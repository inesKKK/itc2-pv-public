{
 "cells": [
  {
   "cell_type": "markdown",
   "metadata": {},
   "source": [
    "# TP9 : apprentissage supervisé\n",
    "\n",
    "Dans ce TP nous mettons en œuvre une partie de l'algorithme d'apprentissage supervisé des $k$-plus proches voisins vu en cours, dans le but de classer des images contenant des chiffres.\n",
    "\n",
    "La base de chiffres sur laquelle nous travaillerons (**pas besoin de télécharger quoi que ce soit, c'est déjà chargé, mais je cite mes sources**) est la base [MNIST](https://deepai.org/dataset/mnist). Cette base fournit 4 fichiers (**pas besoin de les télécharger**):\n",
    "\n",
    "* `train-images-idx3-ubyte.gz`: images d'entraînement (60000 images)\n",
    "* `train-labels-idx1-ubyte.gz`: classes des images d'entraînement\n",
    "* `t10k-images-idx3-ubyte.gz`: images de test (10000 images)\n",
    "* `t10k-labels-idx1-ubyte.gz`: classes des images de test\n",
    "\n",
    "Je vous fournis les fonctions qui permettent d'obtenir les listes d'images et les listes de classes à partir de ces fichiers, une image étant représentée sous forme de liste de listes de niveaux de gris et une classe sous forme d'un chiffre. Pour celà, j'ai largement emprunté et légèrement modifié le code fourni par le site [https://www.kaggle.com/code/hojjatk/read-mnist-dataset/notebook](https://www.kaggle.com/code/hojjatk/read-mnist-dataset/notebook)."
   ]
  },
  {
   "cell_type": "markdown",
   "metadata": {},
   "source": [
    "Ce qui suit est une classe python (notion hors programme ITC) permettant de charger les données et d'obtenir les listes décrites ci-dessus pour les images et les classes des images. (Vous n'avez pas besoin de comprendre la code, mais il sera utilisé par la suite.)"
   ]
  },
  {
   "cell_type": "code",
   "execution_count": null,
   "metadata": {},
   "outputs": [],
   "source": [
    "import numpy as np # linear algebra\n",
    "import struct\n",
    "from array import array\n",
    "\n",
    "#\n",
    "# MNIST Data Loader Class\n",
    "#\n",
    "class MnistDataloader(object):\n",
    "    def __init__(self, training_images_filepath,training_labels_filepath,\n",
    "                 test_images_filepath, test_labels_filepath):\n",
    "        self.training_images_filepath = training_images_filepath\n",
    "        self.training_labels_filepath = training_labels_filepath\n",
    "        self.test_images_filepath = test_images_filepath\n",
    "        self.test_labels_filepath = test_labels_filepath\n",
    "    \n",
    "    def read_images_labels(self, images_filepath, labels_filepath):        \n",
    "        labels = []\n",
    "        with open(labels_filepath, 'rb') as file:\n",
    "            magic, size = struct.unpack(\">II\", file.read(8))\n",
    "            if magic != 2049:\n",
    "                raise ValueError('Magic number mismatch, expected 2049, got {}'.format(magic))\n",
    "            labels = array(\"B\", file.read())        \n",
    "        \n",
    "        with open(images_filepath, 'rb') as file:\n",
    "            magic, size, rows, cols = struct.unpack(\">IIII\", file.read(16))\n",
    "            if magic != 2051:\n",
    "                raise ValueError('Magic number mismatch, expected 2051, got {}'.format(magic))\n",
    "            image_data = array('B', file.read())\n",
    "        images = []\n",
    "        for i in range(size):\n",
    "            images.append([0] * rows * cols)\n",
    "        for i in range(size):\n",
    "            img = np.array(image_data[i * rows * cols:(i + 1) * rows * cols])\n",
    "            img = img.reshape(28, 28)\n",
    "            images[i][:] = img.tolist()\n",
    "        return images, labels\n",
    "            \n",
    "    def load_data(self):\n",
    "        x_train, y_train = self.read_images_labels(self.training_images_filepath, self.training_labels_filepath)\n",
    "        x_test, y_test = self.read_images_labels(self.test_images_filepath, self.test_labels_filepath)\n",
    "        return (x_train, y_train),(x_test, y_test)"
   ]
  },
  {
   "cell_type": "markdown",
   "metadata": {},
   "source": [
    "Le code qui suit utilise la classe précédente pour récupérer les images (quelques secondes d'exécution, soyez patients)."
   ]
  },
  {
   "cell_type": "code",
   "execution_count": null,
   "metadata": {},
   "outputs": [],
   "source": [
    "training_images_filepath = 'train-images-idx3-ubyte'\n",
    "training_labels_filepath = 'train-labels-idx1-ubyte'\n",
    "test_images_filepath = 't10k-images-idx3-ubyte'\n",
    "test_labels_filepath = 't10k-labels-idx1-ubyte'\n",
    "\n",
    "#\n",
    "# Load MINST dataset\n",
    "#\n",
    "mnist_dataloader = MnistDataloader(training_images_filepath, training_labels_filepath,\n",
    "                                   test_images_filepath, test_labels_filepath)\n",
    "(img_entrainement, cl_entrainement), (img_test, cl_test) = mnist_dataloader.load_data()"
   ]
  },
  {
   "cell_type": "markdown",
   "metadata": {},
   "source": [
    "### Exercice 1 : Afficher quelques images\n",
    "\n",
    "Pour vérifier que vous avez bien compris ce que contient chacune des listes fabriquées ci-dessus.\n",
    "\n",
    "Voici le code d'une fonction permettant d'afficher une image."
   ]
  },
  {
   "cell_type": "code",
   "execution_count": null,
   "metadata": {},
   "outputs": [],
   "source": [
    "from PIL import Image\n",
    "from IPython.display import display\n",
    "\n",
    "def affiche_image(img):\n",
    "    \"\"\"img : image sous forme d'une liste de listes de niveaux de gris\n",
    "    affichage de l'image\"\"\"\n",
    "    im = Image.new(size=(len(img[0]), len(img)), mode='L')\n",
    "    for i in range(len(img)):\n",
    "        for j in range(len(img[0])):\n",
    "            im.putpixel((j, i), img[i][j])\n",
    "    display(im)"
   ]
  },
  {
   "cell_type": "markdown",
   "metadata": {},
   "source": [
    "Afficher les images d'entraînement 3, 735, 3827 et 52615 et les images tests 54 et 9876."
   ]
  },
  {
   "cell_type": "code",
   "execution_count": null,
   "metadata": {
    "scrolled": true
   },
   "outputs": [],
   "source": []
  },
  {
   "cell_type": "markdown",
   "metadata": {},
   "source": [
    "Afficher maintenant les classes de toutes ces images."
   ]
  },
  {
   "cell_type": "code",
   "execution_count": null,
   "metadata": {},
   "outputs": [],
   "source": []
  },
  {
   "cell_type": "markdown",
   "metadata": {},
   "source": [
    "### Exercice 2 : insérer un élément dans une liste ordonnée\n",
    "\n",
    "Dans le but de programmer l'algorithme des $k$-plus proches voisins, on a besoin de maintenir à jour une liste des voisins les plus proches potentiels. On a donc besoin de pouvoir insérer un élément dans une liste ordonnée dans l'ordre croissant de sorte que la liste reste ordonnée et de même taille (pour celà on supprimera le dernier élément de la liste).\n",
    "\n",
    "Écrire une fonction `inserer` qui prend en argument un couple `(n, d)` où `d` est un entier et une liste `L` d'éléments de la même forme, supposée ordonnée dans l'ordre croissant selon la valeur de la deuxième composante de ses éléments et telle qu'on suppose que la deuxième composante de son dernier élément est supérieure à `d`, et modifie la liste `L` de telle sorte que `L` à la fin contiennent tous les éléments initialement dans `L[:-1]` ainsi que l'élément `(n, d)`, et est ordonnée  dans l'ordre croissant selon la valeur de la deuxième composante de ses éléments.\n",
    "\n",
    "(En première approche votre fonction peut être linéaire en la longueur de la liste `L`, nous l'améliorerons au prochain TP.)"
   ]
  },
  {
   "cell_type": "code",
   "execution_count": null,
   "metadata": {},
   "outputs": [],
   "source": []
  },
  {
   "cell_type": "code",
   "execution_count": null,
   "metadata": {},
   "outputs": [],
   "source": [
    "import math\n",
    "\n",
    "L = [(1,math.inf)]\n",
    "inserer((4,5), L)\n",
    "assert(L == [(4, 5)])\n",
    "\n",
    "L = [('a', 1), ('b', 3), ('c', 5)]\n",
    "inserer(('d', 4), L)\n",
    "assert(L == [('a', 1), ('b', 3), ('d', 4)])\n",
    "\n",
    "L = [('a', 1), ('b', 3), ('c', 5)]\n",
    "inserer(('d', 2), L)\n",
    "assert(L == [('a', 1), ('d', 2), ('b', 3)])\n",
    "\n",
    "L = [('a', 1), ('b', 3), ('c', 5)]\n",
    "inserer(('d', 0), L)\n",
    "assert(L == [('d', 0), ('a', 1), ('b', 3)])"
   ]
  },
  {
   "cell_type": "markdown",
   "metadata": {},
   "source": [
    "### Exercice 3 : Trouver les $k$ plus proches voisins\n",
    "\n",
    "Je donne ici une variante de la fonction du TP8 permettant d'obtenir la distance euclidienne entre deux images (variante car les images ne doivent pas être fournies par le nom d'un fichier les contenant, mais par une liste de listes de niveaux de gris)."
   ]
  },
  {
   "cell_type": "code",
   "execution_count": null,
   "metadata": {},
   "outputs": [],
   "source": [
    "import math\n",
    "\n",
    "def distance_euclidienne_image(im1, im2):\n",
    "    assert(len(im1) == len(im2) and len(im1[0]) == len(im2[0]))\n",
    "    return math.sqrt(sum([(im1[i][j] - im2[i][j])**2 for i in range(len(im1)) for j in range(len(im1[0]))]))"
   ]
  },
  {
   "cell_type": "markdown",
   "metadata": {},
   "source": [
    "Écrire une fonction `k_plus_proches_voisins` qui prend en argument :\n",
    "\n",
    "* une image `im` (sous forme de liste de listes de niveaux de gris),\n",
    "* une liste `L` d'images (sous la même forme) supposée de longueur supérieure à `k`,\n",
    "* un entier `k`,\n",
    "* une fonction qui permet de calculer une distance entre deux images (comme `distance_euclidienne_image` le fait),\n",
    "* une fonction qui permet d'insérer un couple dans une liste de couples (comme `inserer` le fait),\n",
    "\n",
    "et qui renvoie une liste de `k` couples `(n, d)` où :\n",
    "\n",
    "* `n` représente un indice dans la liste `L`,\n",
    "* `d` est la distance entre les images `im` et `L[n]` calculée par `dist`,\n",
    "* la liste renvoyée contient les `k` plus proches voisins de `im` dans la liste `L` pour la distance `dist`, dans l'ordre croissant des distances de `im` à ces voisins."
   ]
  },
  {
   "cell_type": "code",
   "execution_count": null,
   "metadata": {},
   "outputs": [],
   "source": []
  },
  {
   "cell_type": "code",
   "execution_count": null,
   "metadata": {},
   "outputs": [],
   "source": [
    "L = k_plus_proches_voisins(img_test[0], img_entrainement[:100], 3, distance_euclidienne_image, inserer)\n",
    "assert([n for (n, _) in L] == [84, 96, 52])\n",
    "\n",
    "L = k_plus_proches_voisins(img_test[54], img_entrainement[1000:1100], 5, distance_euclidienne_image, inserer)\n",
    "assert([n for (n, _) in L] == [28, 74, 4, 31, 80])"
   ]
  },
  {
   "cell_type": "markdown",
   "metadata": {},
   "source": [
    "### Exercice 4 : Deviner la classe d'une image\n",
    "\n",
    "Écrire une fonction `classe_devinee` qui prend en arguments une liste `voisins` sous la même forme que ce que renvoie la fonction `k_plus_proches_voisins` et une liste d'entiers représentant des classes (comme `cl_entrainement`) dans laquelle on peut accéder aux classes des éléments de `voisins`, et renvoie la classe majoritaire de ces éléments."
   ]
  },
  {
   "cell_type": "code",
   "execution_count": null,
   "metadata": {},
   "outputs": [],
   "source": []
  },
  {
   "cell_type": "markdown",
   "metadata": {},
   "source": [
    "À vous d'écrire les tests pour vérifier si les images 54 et 9876 sont bien classées si on prend `k=3` et la distance euclidienne entre images."
   ]
  },
  {
   "cell_type": "code",
   "execution_count": null,
   "metadata": {},
   "outputs": [],
   "source": []
  }
 ],
 "metadata": {
  "kernelspec": {
   "display_name": "Python 3",
   "language": "python",
   "name": "python3"
  },
  "language_info": {
   "codemirror_mode": {
    "name": "ipython",
    "version": 3
   },
   "file_extension": ".py",
   "mimetype": "text/x-python",
   "name": "python",
   "nbconvert_exporter": "python",
   "pygments_lexer": "ipython3",
   "version": "3.6.9"
  }
 },
 "nbformat": 4,
 "nbformat_minor": 4
}
