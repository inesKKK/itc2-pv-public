{
 "cells": [
  {
   "cell_type": "markdown",
   "metadata": {},
   "source": [
    "# TP12 et TP13 : _Puissance 4_\n",
    "Le but de ces TP est de créer un _Puissance 4_ où l'utilisateur peut jouer contre l'ordinateur. L'ordinateur appliquera une stratégie de type min-max avec une heuristique pour se limiter à une profondeur raisonnable."
   ]
  },
  {
   "cell_type": "markdown",
   "metadata": {},
   "source": [
    "## TP12 : mise en place du jeu et calculs des scores\n",
    "\n",
    "Pour mettre en place un jeu, il faut que l'utilisateur interagisse avec le programme, pour lui donner des informations. Pour celà, on peut utiliser la fonction `input` qui prend en argument une chaîne de caractères qui sera affichée et renvoie ce que l'utilisateur a tapé jusqu'au retour chariot, _sous forme de chaîne de caractères_ (et sans le retour chariot).\n",
    "\n",
    "Exemple d'utilisation:"
   ]
  },
  {
   "cell_type": "code",
   "execution_count": null,
   "metadata": {},
   "outputs": [],
   "source": [
    "p = input('Quel est votre prénom ? ')\n",
    "print('Bonjour ' + p + '.')"
   ]
  },
  {
   "cell_type": "markdown",
   "metadata": {},
   "source": [
    "### Exercice 1 : somme de deux entiers\n",
    "Écrire un programme qui demande deux entiers à l'utilisateur et affiche leur somme."
   ]
  },
  {
   "cell_type": "code",
   "execution_count": null,
   "metadata": {},
   "outputs": [],
   "source": []
  },
  {
   "cell_type": "markdown",
   "metadata": {},
   "source": [
    "#### Interlude : afficher une configuration\n",
    "D'après la page wikipedia du jeu [_Puissance 4_](https://fr.wikipedia.org/wiki/Puissance_4), la grille de jeu est constituée de 6 rangées de 7 colonnes. Nous allons représenter chaque rangée par un tuple de 7 cases contenant chacune 0, 1 ou 2 (selon qu'elle est libre ou qu'elle contient un pion de $J_1$ ou de $J_2$), et la suite de rangées par un tuple de 6 rangées, de haut en bas. (Inutile de regarder la page wikipedia, sauf si vraiment vous ne savez pas jouer à Puissance 4.)\n",
    "\n",
    "Ainsi le tuple\n",
    "```python\n",
    "( \n",
    "    (0, 0, 0, 0, 0, 0, 0),\n",
    "    (0, 0, 0, 0, 0, 0, 0),\n",
    "    (0, 0, 1, 0, 0, 0, 0),\n",
    "    (0, 0, 2, 1, 2, 0, 0),\n",
    "    (0, 1, 2, 2, 1, 0, 0),\n",
    "    (2, 1, 1, 1, 2, 2, 0)\n",
    ")\n",
    "```\n",
    "\n",
    "représente la configuration\n",
    "\n",
    "<a title=\"User François Haffner on fr.wikipedia, Public domain, via Wikimedia Commons\" href=\"https://commons.wikimedia.org/wiki/File:Puissance4_01.svg\"><img width=\"200\" alt=\"Puissance4 01\" src=\"https://upload.wikimedia.org/wikipedia/commons/thumb/d/dc/Puissance4_01.svg/256px-Puissance4_01.svg.png\"></a>\n",
    "\n",
    "\n",
    "si $J_1$ est représenté en orange et $J_2$ en rouge. **Dans toute la suite, on fera la supposition suivante: $J_1$ est le joueur humain et $J_2$ est l'ordinateur.**\n",
    "\n",
    "Je vous fournis la fonction suivante qui permet d'afficher une configuration:"
   ]
  },
  {
   "cell_type": "code",
   "execution_count": null,
   "metadata": {
    "scrolled": true
   },
   "outputs": [],
   "source": [
    "from PIL import Image, ImageDraw\n",
    "\n",
    "def affiche(g):\n",
    "    \"\"\"affiche la grille de jeu\"\"\"\n",
    "    with Image.open(\"img/Puissance4_01.png\").convert(\"RGBA\") as base:\n",
    "        h = base.height - (base.height%6)\n",
    "        w = base.width - (base.width%7)\n",
    "        couleur = [(255,255,255), (255, 165, 0), (255,0,0)]\n",
    "        im = Image.new(size=base.size, mode='RGBA')\n",
    "        for i in range(w):\n",
    "            i2 = i // (w//7)\n",
    "            for j in range(2, h):\n",
    "                j2 = j // (h//6)\n",
    "                im.putpixel((i, j), couleur[g[j2][i2]])\n",
    "        im.paste(base, base)\n",
    "        display(im)"
   ]
  },
  {
   "cell_type": "code",
   "execution_count": null,
   "metadata": {
    "scrolled": true
   },
   "outputs": [],
   "source": [
    "g = ( \n",
    "    (0, 0, 0, 0, 0, 0, 0),\n",
    "    (0, 0, 0, 0, 0, 0, 0),\n",
    "    (0, 0, 1, 0, 0, 0, 0),\n",
    "    (0, 0, 2, 1, 2, 0, 0),\n",
    "    (0, 1, 2, 2, 1, 0, 0),\n",
    "    (2, 1, 1, 1, 2, 2, 0)\n",
    "    )\n",
    "affiche(g)"
   ]
  },
  {
   "cell_type": "markdown",
   "metadata": {},
   "source": [
    "### Exercice 2 : jouer un pion\n",
    "Écrire une fonction `jouer` qui prend en argument une grille de _Puissance 4_ , un numéro de joueur `J` (supposé être 1 ou 2) et un numéro de colonne `c` (supposé entre 0 et 6) et renvoie un couple composé d'une **nouvelle** grille de jeu où le joueur `J` a joué dans la colonne `c` et de la ligne où se trouve le pion qu'il vient de jouer.\n",
    "Si le joueur `J` ne peut pas jouer en colonne `c` (la colonne est pleine), la fonction doit renvoyer `None`.\n",
    "\n",
    "Rappel: si `t` est un tuple, alors `list(t)` une liste avec les éléments de `t` dans le même ordre, et si `l` est une liste, `tuple(l)` est un tuple avec les éléments de `l` dans le même ordre."
   ]
  },
  {
   "cell_type": "code",
   "execution_count": null,
   "metadata": {
    "scrolled": true
   },
   "outputs": [],
   "source": []
  },
  {
   "cell_type": "code",
   "execution_count": null,
   "metadata": {
    "scrolled": true
   },
   "outputs": [],
   "source": [
    "g = ( \n",
    "    (0, 0, 2, 0, 0, 0, 0),\n",
    "    (0, 0, 1, 0, 2, 0, 0),\n",
    "    (0, 0, 1, 0, 1, 0, 0),\n",
    "    (0, 0, 2, 1, 2, 0, 0),\n",
    "    (0, 1, 2, 2, 1, 0, 0),\n",
    "    (2, 1, 1, 1, 2, 2, 0)\n",
    "    )\n",
    "\n",
    "g, i = jouer(g, 1, 5)\n",
    "assert(g == ((0, 0, 2, 0, 0, 0, 0),\n",
    "             (0, 0, 1, 0, 2, 0, 0),\n",
    "             (0, 0, 1, 0, 1, 0, 0),\n",
    "             (0, 0, 2, 1, 2, 0, 0),\n",
    "             (0, 1, 2, 2, 1, 1, 0),\n",
    "             (2, 1, 1, 1, 2, 2, 0)) and i == 4)\n",
    "\n",
    "assert(jouer(g, 2, 2) == None)\n",
    "\n",
    "g, i = jouer(g, 2, 6)\n",
    "assert(g == ((0, 0, 2, 0, 0, 0, 0),\n",
    "             (0, 0, 1, 0, 2, 0, 0),\n",
    "             (0, 0, 1, 0, 1, 0, 0),\n",
    "             (0, 0, 2, 1, 2, 0, 0),\n",
    "             (0, 1, 2, 2, 1, 1, 0),\n",
    "             (2, 1, 1, 1, 2, 2, 2)) and i == 5)\n",
    "\n",
    "g, i = jouer(g, 1, 4)\n",
    "assert(g == ((0, 0, 2, 0, 1, 0, 0),\n",
    "             (0, 0, 1, 0, 2, 0, 0),\n",
    "             (0, 0, 1, 0, 1, 0, 0),\n",
    "             (0, 0, 2, 1, 2, 0, 0),\n",
    "             (0, 1, 2, 2, 1, 1, 0),\n",
    "             (2, 1, 1, 1, 2, 2, 2)) and i == 0)"
   ]
  },
  {
   "cell_type": "markdown",
   "metadata": {},
   "source": [
    "### Exercice 3 : l'ordinateur joue au hasard\n",
    "Nous allons faire une première version où l'ordinateur joue au hasard parmi les coup possibles."
   ]
  },
  {
   "cell_type": "markdown",
   "metadata": {},
   "source": [
    "1. Écrire une fonction `coups_possibles` qui renvoie la liste des colonnes d'une grille dans lesquelles on peu encore jouer."
   ]
  },
  {
   "cell_type": "code",
   "execution_count": null,
   "metadata": {
    "scrolled": true
   },
   "outputs": [],
   "source": []
  },
  {
   "cell_type": "code",
   "execution_count": null,
   "metadata": {
    "scrolled": false
   },
   "outputs": [],
   "source": [
    "grille = ((1, 0, 0, 0, 0, 0, 0),\n",
    "          (2, 0, 0, 0, 0, 0, 0),\n",
    "          (1, 0, 1, 0, 0, 0, 0),\n",
    "          (2, 0, 2, 1, 2, 0, 0),\n",
    "          (1, 1, 2, 2, 1, 0, 0),\n",
    "          (2, 1, 1, 1, 2, 2, 0))\n",
    "assert(coups_possibles(grille) == [1,2,3,4,5,6])\n",
    "\n",
    "grille = tuple(tuple([1]*7) for _ in range(6))\n",
    "assert(coups_possibles(grille) == [])"
   ]
  },
  {
   "cell_type": "markdown",
   "metadata": {},
   "source": [
    "2. Écrire une fonction `coup_aleatoire` qui est une stratégie aléatoire pour un jour : elle prend en argument une grille et renvoie un numéro de colonne au hasard parmi les colonnes non pleines. Vous pouvez utiliser la fonction `choice` du module `random`."
   ]
  },
  {
   "cell_type": "code",
   "execution_count": null,
   "metadata": {
    "scrolled": true
   },
   "outputs": [],
   "source": []
  },
  {
   "cell_type": "markdown",
   "metadata": {},
   "source": [
    "3. Écrire une fonction `jeu_naif` qui prend en argument une stratégie (c'est-à-dire une fonction qui prend une grille en argument et renvoie un numéro de colonne à jouer pour $J_2$, en supposant que c'est effectivement à $J_2$ de jouer) et un premier joueur, et déroule le jeu jusqu'à ce que la grille soit pleine: pour le jour $J_1$, elle demande la colonne à jouer à l'utilisateur, pour le joueur $J_2$, elle utilise la stratégie fournie en argument.\n",
    "Si $J_1$ entre `x`, la fonction doit s'arrêter."
   ]
  },
  {
   "cell_type": "code",
   "execution_count": null,
   "metadata": {
    "scrolled": true
   },
   "outputs": [],
   "source": []
  },
  {
   "cell_type": "markdown",
   "metadata": {},
   "source": [
    "Vous pouvez maintenant jouer contre une stratégie aléatoire (n'oubliez pas que votre moteur ne teste pas encore les alignements, donc quand vous en avez marre, pensez à entre `x` comme position):"
   ]
  },
  {
   "cell_type": "code",
   "execution_count": null,
   "metadata": {
    "scrolled": false
   },
   "outputs": [],
   "source": [
    "jeu_naif(coup_aleatoire, 1)"
   ]
  },
  {
   "cell_type": "markdown",
   "metadata": {},
   "source": [
    "### Exercice 4 : tester si un coup est gagnant\n",
    "Le jeu doit s'arrêter si un des deux joueurs gagne. Il faut donc écrire une fonction permettant de tester si l'ajout d'un pion mène à une position gagnante.\n",
    "\n",
    "Toutes les fonctions qui suivent doivent prendre en argument une grille, et deux entiers correspondants respectivement au numéro de ligne et au numéro de colonne du dernier jeton placé dans la grille, et teste si ce jeton permet à la grille de vérifier un certain critère qui dépend de la fonction (on suppose, sans avoir à le vérifier qu'avant ce coup la grille ne vérifiait pas le critère).\n",
    "\n",
    "1. Écrire une fonction `ligne` pour laquelle le critère est que le jeton qui vient d'être joué appartient à une suite horizontale d'au moins 4 jetons du même joueur."
   ]
  },
  {
   "cell_type": "code",
   "execution_count": null,
   "metadata": {},
   "outputs": [],
   "source": []
  },
  {
   "cell_type": "code",
   "execution_count": null,
   "metadata": {},
   "outputs": [],
   "source": [
    "grille = ((1, 0, 0, 0, 0, 0, 0),\n",
    "          (2, 0, 0, 0, 0, 0, 0),\n",
    "          (1, 0, 1, 0, 0, 0, 0),\n",
    "          (2, 0, 2, 1, 2, 0, 0),\n",
    "          (1, 1, 2, 2, 1, 0, 0),\n",
    "          (2, 1, 1, 1, 2, 2, 0))\n",
    "assert(ligne(grille, 0, 0) == False)\n",
    "\n",
    "grille = ((1, 0, 0, 0, 0, 0, 0),\n",
    "          (2, 0, 0, 0, 0, 0, 0),\n",
    "          (1, 0, 1, 0, 0, 0, 0),\n",
    "          (2, 0, 2, 1, 0, 0, 0),\n",
    "          (1, 1, 2, 2, 2, 2, 0),\n",
    "          (2, 1, 1, 1, 2, 2, 0))\n",
    "assert(ligne(grille, 4, 3) == True)"
   ]
  },
  {
   "cell_type": "markdown",
   "metadata": {},
   "source": [
    "2. Écrire une fonction `colonne` pour laquelle le critère est que le jeton qui vient d'être joué appartient à une suite verticale d'au moins 4 jetons du même joueur."
   ]
  },
  {
   "cell_type": "code",
   "execution_count": null,
   "metadata": {},
   "outputs": [],
   "source": []
  },
  {
   "cell_type": "code",
   "execution_count": null,
   "metadata": {},
   "outputs": [],
   "source": [
    "grille = ((1, 0, 0, 0, 0, 0, 0),\n",
    "          (2, 0, 0, 0, 0, 0, 0),\n",
    "          (1, 0, 1, 0, 0, 0, 0),\n",
    "          (2, 0, 2, 1, 2, 0, 0),\n",
    "          (1, 1, 2, 2, 1, 0, 0),\n",
    "          (2, 1, 1, 1, 2, 2, 0))\n",
    "assert(colonne(grille, 0, 0) == False)\n",
    "\n",
    "grille = ((0, 0, 0, 0, 0, 0, 0),\n",
    "          (1, 0, 0, 0, 0, 0, 0),\n",
    "          (1, 0, 2, 0, 0, 0, 0),\n",
    "          (1, 0, 2, 1, 0, 0, 0),\n",
    "          (1, 1, 2, 2, 2, 2, 0),\n",
    "          (2, 1, 1, 1, 2, 2, 0))\n",
    "assert(colonne(grille, 1, 0) == True)"
   ]
  },
  {
   "cell_type": "markdown",
   "metadata": {},
   "source": [
    "3. Écrire une fonction `diagonale` pour laquelle le critère est que le jeton qui vient d'être joué appartient à une suite diagonale d'au moins 4 jetons du même joueur, où la diagonale est considérée avec les deux coordonnées qui varient de la même manière."
   ]
  },
  {
   "cell_type": "code",
   "execution_count": null,
   "metadata": {},
   "outputs": [],
   "source": []
  },
  {
   "cell_type": "code",
   "execution_count": null,
   "metadata": {},
   "outputs": [],
   "source": [
    "grille = ((1, 0, 0, 0, 0, 0, 0),\n",
    "          (2, 0, 0, 0, 0, 0, 0),\n",
    "          (1, 0, 1, 0, 0, 0, 0),\n",
    "          (2, 0, 2, 1, 2, 0, 0),\n",
    "          (1, 1, 2, 2, 1, 0, 0),\n",
    "          (2, 1, 1, 1, 2, 2, 0))\n",
    "assert(diagonale(grille, 2, 2) == False)\n",
    "\n",
    "grille = ((1, 0, 0, 0, 0, 0, 0),\n",
    "          (2, 1, 0, 0, 0, 0, 0),\n",
    "          (1, 0, 1, 0, 0, 0, 0),\n",
    "          (2, 0, 2, 1, 2, 0, 0),\n",
    "          (1, 1, 2, 2, 1, 0, 0),\n",
    "          (2, 1, 1, 1, 2, 2, 0))\n",
    "assert(diagonale(grille, 2, 2) == True)\n",
    "\n",
    "grille = ((1, 0, 0, 0, 0, 0, 0),\n",
    "          (2, 0, 0, 0, 0, 0, 0),\n",
    "          (1, 0, 1, 0, 0, 0, 0),\n",
    "          (2, 0, 2, 1, 2, 0, 0),\n",
    "          (1, 1, 2, 2, 1, 2, 0),\n",
    "          (2, 1, 1, 1, 2, 2, 2))\n",
    "assert(diagonale(grille, 3, 4) == False)\n",
    "\n",
    "grille = ((1, 0, 0, 0, 0, 0, 0),\n",
    "          (2, 0, 0, 0, 0, 0, 0),\n",
    "          (1, 0, 1, 2, 0, 0, 0),\n",
    "          (2, 0, 2, 1, 2, 0, 0),\n",
    "          (1, 1, 2, 2, 1, 2, 0),\n",
    "          (2, 1, 1, 1, 2, 2, 2))\n",
    "assert(diagonale(grille, 3, 4) == True)"
   ]
  },
  {
   "cell_type": "markdown",
   "metadata": {},
   "source": [
    "4. Écrire une fonction `diagonale2` pour laquelle le critère est que le jeton qui vient d'être joué appartient à une suite diagonale d'au moins 4 jetons du même joueur, où la diagonale est considérée avec les deux coordonnées qui varient de manière opposée."
   ]
  },
  {
   "cell_type": "code",
   "execution_count": null,
   "metadata": {},
   "outputs": [],
   "source": []
  },
  {
   "cell_type": "code",
   "execution_count": null,
   "metadata": {},
   "outputs": [],
   "source": [
    "grille = ((0, 0, 0, 0, 0, 0, 0),\n",
    "          (0, 0, 0, 0, 0, 0, 0),\n",
    "          (1, 0, 1, 0, 0, 2, 0),\n",
    "          (2, 0, 2, 1, 2, 1, 0),\n",
    "          (1, 1, 2, 2, 1, 2, 0),\n",
    "          (2, 1, 1, 1, 2, 2, 0))\n",
    "assert(diagonale2(grille, 4, 3) == False)\n",
    "\n",
    "grille = ((0, 0, 0, 0, 0, 0, 0),\n",
    "          (0, 0, 0, 0, 0, 0, 2),\n",
    "          (1, 0, 1, 0, 0, 2, 2),\n",
    "          (2, 0, 2, 1, 2, 1, 1),\n",
    "          (1, 1, 2, 2, 1, 2, 2),\n",
    "          (2, 1, 1, 1, 2, 2, 1))\n",
    "assert(diagonale2(grille, 4, 3) == True)"
   ]
  },
  {
   "cell_type": "markdown",
   "metadata": {},
   "source": [
    "5. Écrire une fonction `gagnant` pour laquelle le critère est que le jeton qui vient d'être joué appartient à une suite horizontale, verticale ou diagonale d'au moins 4 jetons du même joueur."
   ]
  },
  {
   "cell_type": "code",
   "execution_count": null,
   "metadata": {
    "scrolled": true
   },
   "outputs": [],
   "source": []
  },
  {
   "cell_type": "code",
   "execution_count": null,
   "metadata": {
    "scrolled": true
   },
   "outputs": [],
   "source": [
    "g = ( \n",
    "    (0, 0, 0, 0, 0, 0, 0),\n",
    "    (0, 0, 0, 0, 0, 0, 0),\n",
    "    (0, 0, 1, 0, 0, 0, 0),\n",
    "    (0, 0, 2, 1, 2, 0, 0),\n",
    "    (0, 1, 2, 2, 1, 0, 0),\n",
    "    (2, 1, 1, 1, 2, 2, 0)\n",
    "    )\n",
    "assert(gagnant(g, 2, 2) == False)"
   ]
  },
  {
   "cell_type": "code",
   "execution_count": null,
   "metadata": {
    "scrolled": true
   },
   "outputs": [],
   "source": [
    "g, _ = jouer(g, 1, 1)\n",
    "\n",
    "c = 1\n",
    "g, l = jouer(g, 2, c)\n",
    "\n",
    "assert(gagnant(g, l, c) == True)"
   ]
  },
  {
   "cell_type": "markdown",
   "metadata": {},
   "source": [
    "2. À partir de la fonction `jeu_naif`, écrire une fonction `jeu` qui s'arrête s'il y a un gagnant, en renvoyant le numéro du gagnant, 0 si la grille est pleine et -1 si l'utilisateur interrompt prématurément le déroulement avec un `x`. Votre fonction affichera aussi un message `\"match nul\"`, `\"j'ai gagné!\"` ou `\"bravo à toi!\"` selon la circonstance."
   ]
  },
  {
   "cell_type": "code",
   "execution_count": null,
   "metadata": {
    "scrolled": true
   },
   "outputs": [],
   "source": []
  },
  {
   "cell_type": "markdown",
   "metadata": {},
   "source": [
    "Vous pouvez maintenant essayer de battre la stratégie aléatoire:"
   ]
  },
  {
   "cell_type": "code",
   "execution_count": null,
   "metadata": {
    "scrolled": false
   },
   "outputs": [],
   "source": [
    "jeu(coup_aleatoire, 1)"
   ]
  },
  {
   "cell_type": "markdown",
   "metadata": {},
   "source": [
    "----\n",
    "\n",
    "## TP13 : algorithme min-max pour le _Puissance 4_\n",
    "Il s'agit maintenant de construire une stratégie basée sur l'algorithme min-max. Bien sûr, on ne va pas construire tout l'arbre de jeu car il y a beaucoup trop de configurations. Nous allons donc mettre en place une heuristique permettant d'attribuer un score à une grille, et que nous utiliserons pour se limiter en profondeur dans l'arbre des configurations.\n",
    "\n",
    "Rappel: **$J_1$ est le joueur humain et $J_2$ est l'ordinateur**.\n",
    "\n",
    "Dans ce qui suit, on sépare le calcul du score d'une grille en regardant de façon indépendante les lignes, les colonnes, et les diagonales. On combinera ces scores pour les deux joueurs afin d'obtenir une heuristique pour $J_2$.\n",
    "\n",
    "### Exercice 5 : score des colonnes\n",
    "On considère une grille et un joueur $J$. On cherche à calculer un score associé aux colonnes pour ces données.\n",
    "\n",
    "* Une colonne vide contribue pour 0 dans le score.\n",
    "* Pour chaque colonne non vide:\n",
    "   * si le jeton du dessus n'appartient pas à $J$, la colonne contribue pour 0 dans le score;\n",
    "   * si le jeton du dessus appartient à $J$: soit $b$ le nombre d'emplacements sans jeton dans la colonne et $n$ la longueur du bloc supérieur de jetons appartenant à $J$ dans la colonne:\n",
    "       * si $b+n < 4$, la colonne contribue pour 0 dans le score;\n",
    "       * sinon si $n \\geq 4$, la colonne contribue pour `math.inf` dans le score;\n",
    "       * sinon la colonne contribue pour $n^2$ dans le score.\n",
    "       \n",
    "Écrire une fonction `score_colonne` qui prend une grille et un joueur en argument et renvoie ce score."
   ]
  },
  {
   "cell_type": "code",
   "execution_count": null,
   "metadata": {},
   "outputs": [],
   "source": []
  },
  {
   "cell_type": "code",
   "execution_count": null,
   "metadata": {},
   "outputs": [],
   "source": [
    "grille = ((1, 0, 0, 0, 0, 0, 0),\n",
    "          (2, 0, 0, 0, 0, 0, 0),\n",
    "          (1, 0, 1, 0, 0, 0, 0),\n",
    "          (2, 0, 2, 1, 2, 0, 0),\n",
    "          (1, 1, 2, 2, 1, 0, 0),\n",
    "          (2, 1, 1, 1, 2, 2, 0))\n",
    "assert(score_colonne(grille, 1) == 20)\n",
    "assert(score_colonne(grille, 2) == 8)"
   ]
  },
  {
   "cell_type": "markdown",
   "metadata": {},
   "source": [
    "### Exercice 6 : score des lignes\n",
    "On considère une grille et un joueur $J$. On cherche à calculer un score associé aux lignes pour ces données.\n",
    "\n",
    "* Une ligne vide contribue pour 0 dans le score.\n",
    "* Pour chaque ligne non vide:\n",
    "   * si la ligne contient au moins 4 jetons consécutifs appartenant à $J$, la ligne contribue pour `math.inf` dans le score;\n",
    "   * pour chaque bloc de cases consécutives libres ou contenant un jeton appartenant à $J$: soit $b$ le nombre de cases libres de ce bloc et $n$ le nombre de cases appartenant à $J$ de ce bloc:\n",
    "       * si $b+n < 4$ ou $n=0$, le bloc contribue pour 0 dans le score;\n",
    "       * sinon le bloc contribue pour $(b+2n)^2$ au score.\n",
    "       \n",
    "Écrire une fonction `score_ligne` qui prend une grille et un joueur en argument et renvoie ce score."
   ]
  },
  {
   "cell_type": "code",
   "execution_count": null,
   "metadata": {},
   "outputs": [],
   "source": []
  },
  {
   "cell_type": "code",
   "execution_count": null,
   "metadata": {},
   "outputs": [],
   "source": [
    "grille = ((1, 0, 0, 0, 0, 0, 0),\n",
    "          (2, 0, 0, 0, 0, 0, 0),\n",
    "          (1, 0, 1, 0, 0, 0, 0),\n",
    "          (2, 0, 2, 1, 2, 0, 0),\n",
    "          (1, 1, 2, 2, 1, 0, 0),\n",
    "          (2, 1, 1, 1, 2, 2, 0))          \n",
    "assert(score_ligne(grille, 1) == 217)\n",
    "assert(score_ligne(grille, 2) == 150)"
   ]
  },
  {
   "cell_type": "markdown",
   "metadata": {},
   "source": [
    "### Exercice 7 : score des diagonales\n",
    "On considère une grille et un joueur $J$. On cherche à calculer un score associé aux diagonales pour ces données. Comme certaines diagonales varient avec $(+1,+1)$ et d'autres avec $(+1,-1)$, on va factoriser tout ça en créant une fonction intermédiaire qui calcule le score d'une seule diagonale.\n",
    "\n",
    "Le principe du score d'une diagonale est le même que le principe du score d'une ligne, mais pour simplifier on ne considèrera que le bloc supérieur (attention: un bloc de pions peut avoir des cases vides des deux côtés sur une diagonale).\n",
    "\n",
    "1. Écrire une fonction `score_une_diagonale` qui prend en argument une ligne, un joueur, un numéro de colonne, un numéro de ligne et un sens de variation de colonne ($+1$ ou $-1$) et renvoie le score associé à la diagonale en allant vers le bas."
   ]
  },
  {
   "cell_type": "code",
   "execution_count": null,
   "metadata": {},
   "outputs": [],
   "source": []
  },
  {
   "cell_type": "markdown",
   "metadata": {},
   "source": [
    "2. Écrire des fonctions `score_diagonale` et `score_diagonale2` qui prennent en argument une grille et un joueur et renvoie la somme des scores associés à respectivement aux diagonales qui varient avec $(+1, +1)$ et à celles qui varient avec $(+1, -1)$."
   ]
  },
  {
   "cell_type": "code",
   "execution_count": null,
   "metadata": {},
   "outputs": [],
   "source": []
  },
  {
   "cell_type": "markdown",
   "metadata": {},
   "source": [
    "### Exercice 8 : heuristique\n",
    "L'heuristique associée à un couple (grille, joueur) est la différence entre le score associé au joueur (i.e. la somme des scores sur les lignes, les colonnes et les diagonales) et le double du score associé à son adversaire.\n",
    "\n",
    "Écrire une fonction `heuristique` qui prend en argument une grille et un joueur et renvoie l'heuristique associée."
   ]
  },
  {
   "cell_type": "code",
   "execution_count": null,
   "metadata": {
    "scrolled": true
   },
   "outputs": [],
   "source": []
  },
  {
   "cell_type": "markdown",
   "metadata": {},
   "source": [
    "### Exercice 5 : algorithme min-max"
   ]
  },
  {
   "cell_type": "markdown",
   "metadata": {},
   "source": [
    "Nous avons maintenant tout ce qu'il faut entre les mains pour écrire une fonction qui exécute l'algorithme min-max avec profondeur bornée pour le joueur $J_2$.\n",
    "\n",
    "Le principe est de fabriquer l'arbre des configurations:\n",
    "* si la configuration est terminale, on lui attribue le score `math.inf`, `-math.inf` ou `0` selon si $J_2$ gagne, $J_1$ gagne ou qu'il y a match nul;\n",
    "* sinon si on est arrivé à la profondeur maximale qu'on s'est fixé, il faut évaluer le score de la configuration pour $J_2$ avec l'heuristique;\n",
    "* sinon\n",
    "    * si c'est à $J_1$ de jouer, on considère que $J-1$ va choisir le coup avec le score minimal pour $J_2$;\n",
    "    * si c'est à $J_2$ de jouer, il va choisir le coup qui lui rapport le plus.\n",
    "\n",
    "Pour chaque configuration, il faut donc retenir plusieurs renseignements qui seront conservés en mémoire dans un dictionnaire; à une configuration on pourra associer un triplet contenant dans cet ordre:\n",
    "* le score de la configuration\n",
    "* `True` si c'est un score exact, `False` s'il a été obtenu par l'heuristique, la configuration à atteindre s'il a été obtenu par `min` ou `max`\n",
    "* la colonne à jouer pour atteindre la configuration suivante, ou `None` si ça n'a pas de sens.\n",
    "\n",
    "\n",
    "Pour accélérer les calculs, on ne se relancera dans le calcul du score d'une configuration obtenue directement par heuristique que si on se retrouve effectivement dans cette configuration.\n",
    "\n",
    "Écrire une fonction `min-max` aui prend en entrée une grille, un joueur, une profondeur, un tableau de scores sous forme d'un dictionnaire comme décrit ci-dessus et une heuristique, et renvoie le triplet décrit ci-dessus pour la grille et remplit le tableau de scores."
   ]
  },
  {
   "cell_type": "code",
   "execution_count": null,
   "metadata": {
    "scrolled": true
   },
   "outputs": [],
   "source": []
  },
  {
   "cell_type": "markdown",
   "metadata": {},
   "source": [
    "On définit une nouvelle stratégie:"
   ]
  },
  {
   "cell_type": "code",
   "execution_count": null,
   "metadata": {
    "scrolled": true
   },
   "outputs": [],
   "source": [
    "def strategie2(g):\n",
    "    min_max(g, 2, 6, scores, heuristique1)\n",
    "    return scores[g][2]"
   ]
  },
  {
   "cell_type": "markdown",
   "metadata": {},
   "source": [
    "Et maintenant vous pouvez jouer pour de vrai:"
   ]
  },
  {
   "cell_type": "code",
   "execution_count": null,
   "metadata": {
    "scrolled": false
   },
   "outputs": [],
   "source": [
    "scores = {}\n",
    "jeu(strategie2, 1)"
   ]
  }
 ],
 "metadata": {
  "kernelspec": {
   "display_name": "Python 3",
   "language": "python",
   "name": "python3"
  },
  "language_info": {
   "codemirror_mode": {
    "name": "ipython",
    "version": 3
   },
   "file_extension": ".py",
   "mimetype": "text/x-python",
   "name": "python",
   "nbconvert_exporter": "python",
   "pygments_lexer": "ipython3",
   "version": "3.6.9"
  }
 },
 "nbformat": 4,
 "nbformat_minor": 4
}
