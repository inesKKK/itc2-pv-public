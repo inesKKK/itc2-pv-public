{
 "cells": [
  {
   "cell_type": "markdown",
   "id": "d59b0f82",
   "metadata": {},
   "source": [
    "# ITC2 - MP/PSI\n",
    "---"
   ]
  },
  {
   "cell_type": "markdown",
   "id": "7b5c92ae",
   "metadata": {},
   "source": [
    "# TP2 : Tables de hachage\n",
    " \n",
    "Il s'agit dans ce TP de constater expérimentalement l'efficacité des\n",
    "tables de hachage pour stocker des ensembles (d'entiers pour\n",
    "simplifier)."
   ]
  },
  {
   "cell_type": "markdown",
   "id": "c5620ec1",
   "metadata": {},
   "source": [
    "# Gestion des collisions par chaînage\n",
    "\n",
    "Nous nous intéressons à la gestion des collisions par chaînage et nous\n",
    "voulons déterminer expérimentalement la bonne taille de table de\n",
    "hachage en fonction du nombre de données à stocker."
   ]
  },
  {
   "cell_type": "markdown",
   "id": "5d2f0a7e",
   "metadata": {},
   "source": [
    "## Exercice 1 : Des fonctions de hachage\n",
    "\n",
    "Comme on va tester nos constructions avec plusieurs fonctions de hachage, commençons par implémenter de telles fonctions qui toutes prendrons en argument l'élément à hacher et le nombre d'alvéoles de la table de hachage.\n",
    "\n",
    "1. Écrire une fonction `hachage1` qui renvoie l'élément modulo le nombre d'alvéoles de la table de hachage."
   ]
  },
  {
   "cell_type": "code",
   "execution_count": null,
   "id": "4d70ba92",
   "metadata": {},
   "outputs": [],
   "source": []
  },
  {
   "cell_type": "code",
   "execution_count": null,
   "id": "194d3ff1",
   "metadata": {},
   "outputs": [],
   "source": [
    "assert(hachage1(4323, 34) == 5)"
   ]
  },
  {
   "cell_type": "markdown",
   "id": "56628cde",
   "metadata": {},
   "source": [
    "2. Écrire une fonction `hachage2 qui multiplie l'élément par 49999 (nombre premier d'après https://www.nombres-premiers.fr/liste.html) et renvoie le résultat modulo le nombre d'alvéoles de la table de hachage."
   ]
  },
  {
   "cell_type": "code",
   "execution_count": null,
   "id": "94c331c4",
   "metadata": {},
   "outputs": [],
   "source": []
  },
  {
   "cell_type": "code",
   "execution_count": null,
   "id": "9178046a",
   "metadata": {},
   "outputs": [],
   "source": [
    "assert(hachage2(4323, 34) == 27)"
   ]
  },
  {
   "cell_type": "markdown",
   "id": "032da2be",
   "metadata": {},
   "source": [
    "3. Écrire une fonction `hachage3` qui renvoie $$\\lfloor h\\times (\\underbrace{\\pi n \\mod 1}_{\\text{partie fractionnaire}})\\rfloor\\:,$$où $h$ est le nombre d'alvéoles de la table de hachage et $n$ le nombre à hacher. Rappel : $\\pi$ est disponible dans le module `math` sous le nom `pi`."
   ]
  },
  {
   "cell_type": "code",
   "execution_count": null,
   "id": "b4bdabb5",
   "metadata": {},
   "outputs": [],
   "source": []
  },
  {
   "cell_type": "code",
   "execution_count": null,
   "id": "0b11be27",
   "metadata": {},
   "outputs": [],
   "source": [
    "assert(hachage3(4323, 34) == 3)"
   ]
  },
  {
   "cell_type": "markdown",
   "id": "d141dbd8",
   "metadata": {},
   "source": [
    "## Exercice 2 : Créer une table de hachage vide"
   ]
  },
  {
   "cell_type": "markdown",
   "id": "10be8f33",
   "metadata": {},
   "source": [
    "Écrire une fonction `nouvelle_table_hachage` qui prend en argument un entier et crée une table de hachage ayant ce nombre d'alvéole et dont chaque alvéole contient une liste vide."
   ]
  },
  {
   "cell_type": "code",
   "execution_count": null,
   "id": "3c59a52c",
   "metadata": {},
   "outputs": [],
   "source": []
  },
  {
   "cell_type": "code",
   "execution_count": null,
   "id": "4c69e9a4",
   "metadata": {},
   "outputs": [],
   "source": [
    "H = nouvelle_table_hachage(128)\n",
    "assert(len(H)==128 and len(H[17])==0 and id(H[0])!=id(H[1]))"
   ]
  },
  {
   "cell_type": "markdown",
   "id": "fd226e97",
   "metadata": {},
   "source": [
    "## Interlude : Une fonction comme paramètre d'une autre fonction\n",
    "\n",
    "En python, on peut donner une fonction comme paramètre à une autre fonction.\n",
    "\n",
    "Exemple :"
   ]
  },
  {
   "cell_type": "code",
   "execution_count": null,
   "id": "1c95b219",
   "metadata": {},
   "outputs": [],
   "source": [
    "import math\n",
    "\n",
    "def affichage(f, x):\n",
    "    print('La valeur de la fonction en la variable est :')\n",
    "    print(f(x))\n",
    "    \n",
    "affichage(math.cos, 0)"
   ]
  },
  {
   "cell_type": "markdown",
   "id": "b2407891",
   "metadata": {},
   "source": [
    "## Exercice 3 : Ajouter un élément\n",
    "\n",
    "Écrire une fonction `ajout` qui prend en argument une table de hachage, un entier à ajouter dans la table et une fonction supposée être une fonction de hachage (sans rien vérifier dessus) et ajoute l'entier dans la table de hachage, en utilisant une gestion des collisions par chaînage. N'oubliez pas qu'un entier ne peut pas apparaître deux fois dans la table puisqu'il s'agit ici d'encoder un ensemble."
   ]
  },
  {
   "cell_type": "code",
   "execution_count": null,
   "id": "d7c1156b",
   "metadata": {},
   "outputs": [],
   "source": []
  },
  {
   "cell_type": "code",
   "execution_count": null,
   "id": "44e0c1aa",
   "metadata": {},
   "outputs": [],
   "source": [
    "H = nouvelle_table_hachage(128)\n",
    "ajout(H, 145, hachage1)\n",
    "ajout(H, 145, hachage1)\n",
    "ajout(H, 17, hachage1)\n",
    "assert(len(H[0]) == 0 and len(H[17]) == 2 and H[17][0] == 145)"
   ]
  },
  {
   "cell_type": "code",
   "execution_count": null,
   "id": "85da38ea",
   "metadata": {},
   "outputs": [],
   "source": [
    "H = nouvelle_table_hachage(128)\n",
    "ajout(H, 145, hachage2)\n",
    "ajout(H, 145, hachage2)\n",
    "ajout(H, 17, hachage2)\n",
    "assert(len(H[0]) == 0 and len(H[63]) == 2 and H[63][0] == 145)"
   ]
  },
  {
   "cell_type": "code",
   "execution_count": null,
   "id": "fb1ad07d",
   "metadata": {},
   "outputs": [],
   "source": [
    "H = nouvelle_table_hachage(128)\n",
    "ajout(H, 145, hachage3)\n",
    "ajout(H, 145, hachage3)\n",
    "ajout(H, 32, hachage3)\n",
    "assert(len(H[0]) == 0 and len(H[67]) == 2 and H[67][0] == 145)"
   ]
  },
  {
   "cell_type": "markdown",
   "id": "4784e3eb",
   "metadata": {},
   "source": [
    "## Exercice 4 : Statistiques de répartition\n",
    "\n",
    "On a dit que le temps d'accès à un élément dans une table de hachage dont les collisions sont gérées par chaînage dépend essentiellement de la longueur de ces chaînes : si toutes les chaînes ont la même longueur, on est sur un temps correspondant à un temps moyen, s'il y a beaucoup de disparités, alors il peut arriver que le temps d'accès soit très grand.\n",
    "\n",
    "On va donc ici faire des statistiques sur les longueurs de ces chaînes.\n",
    "\n",
    "1. Écrire une fonction `remplir` qui prend en argument un entier représentant un nombre d'alvéoles, une fonction de hachage et un entier `n` représentant le nombre d'éléments à ajouter et :\n",
    "    * crée une nouvelle table de hachage de la bonne taille\n",
    "    * ajoute les entiers 0 à `n`-1\n",
    "    * renvoie la table de hachage"
   ]
  },
  {
   "cell_type": "code",
   "execution_count": null,
   "id": "a7c20716",
   "metadata": {},
   "outputs": [],
   "source": []
  },
  {
   "cell_type": "markdown",
   "id": "6bcdfa1a",
   "metadata": {},
   "source": [
    "2. Écrire une fonction `occupation` qui prend en argument une table de hachage avec gestion des collisions par chaînage et affiche la longueur des chaînes par case de la table de hachage. On pourra utiliser la fonction `bar` du module `matplotlib.pyplot` qui prend en argument un tableau d'abscisses et un tableau d'ordonnées."
   ]
  },
  {
   "cell_type": "code",
   "execution_count": null,
   "id": "ef028c62",
   "metadata": {},
   "outputs": [],
   "source": []
  },
  {
   "cell_type": "markdown",
   "id": "8d9c844b",
   "metadata": {},
   "source": [
    "En faisant des affichages, déduire laquelle des fonctions de hachage n'est pas très bonne si les données sont uniformes et le nombre d'alvéoles 128."
   ]
  },
  {
   "cell_type": "code",
   "execution_count": null,
   "id": "6c88dc72",
   "metadata": {
    "scrolled": true
   },
   "outputs": [],
   "source": [
    "occupation(remplir(128, hachage1, 10000))"
   ]
  },
  {
   "cell_type": "code",
   "execution_count": null,
   "id": "b559cf6f",
   "metadata": {},
   "outputs": [],
   "source": [
    "occupation(remplir(128, hachage2, 10000))"
   ]
  },
  {
   "cell_type": "code",
   "execution_count": null,
   "id": "67eae570",
   "metadata": {},
   "outputs": [],
   "source": [
    "occupation(remplir(128, hachage3, 10000))"
   ]
  },
  {
   "cell_type": "code",
   "execution_count": null,
   "id": "55a236b8",
   "metadata": {},
   "outputs": [],
   "source": [
    "occupation(remplir(200, hachage3, 10000))"
   ]
  },
  {
   "cell_type": "markdown",
   "id": "b32744d9",
   "metadata": {},
   "source": [
    "## Exercice 5 : Ranger des chaînes de caractères\n",
    "\n",
    "On s'intéresse maintenant à des tables de hachage permettant de stocker des chaînes de caractères. Le langage python fournit une fonction `hash` qui à tout argument associe un entier.\n",
    "\n",
    "1. Écrire une fonction `hachage4` qui prend en argument l'élément à hacher et le nombre d'alvéoles de la table de hachage et renvoie un numéro d'alvéole grâce à la fonction `hash` et au modulo."
   ]
  },
  {
   "cell_type": "code",
   "execution_count": null,
   "id": "e4aa867e",
   "metadata": {},
   "outputs": [],
   "source": []
  },
  {
   "cell_type": "markdown",
   "id": "676d9660",
   "metadata": {},
   "source": [
    "Voici une fonction permettant d'obtenir un \"mot\" au hasard en spécifiant son nombre de lettres:"
   ]
  },
  {
   "cell_type": "code",
   "execution_count": null,
   "id": "f9b045f2",
   "metadata": {},
   "outputs": [],
   "source": [
    "import string\n",
    "import random\n",
    "\n",
    "def mot_aleatoire(lg):\n",
    "    \"\"\"fournit une chaîne de caractères aléatoire de longueur lg\"\"\"\n",
    "    return ''.join(random.choice(string.ascii_lowercase) for i in range(lg))"
   ]
  },
  {
   "cell_type": "markdown",
   "id": "b7e82794",
   "metadata": {},
   "source": [
    "2. Écrire une fonction `remplir_mots` qui prend en argument un entier représentant un nombre d'alvéoles, une fonction de hachage et un entier `n` représentant le nombre d'éléments à ajouter et :\n",
    "    * crée une nouvelle table de hachage de la bonne taille\n",
    "    * ajoute `n` mots au hasard de longueur 20\n",
    "    * renvoie la table de hachage"
   ]
  },
  {
   "cell_type": "code",
   "execution_count": null,
   "id": "52e98726",
   "metadata": {},
   "outputs": [],
   "source": []
  },
  {
   "cell_type": "code",
   "execution_count": null,
   "id": "f80cc3c6",
   "metadata": {
    "scrolled": true
   },
   "outputs": [],
   "source": [
    "occupation(remplir_mots(128, hachage4, 10000))"
   ]
  },
  {
   "cell_type": "markdown",
   "id": "0ce08dc0",
   "metadata": {},
   "source": [
    "## Exercice 6 : Gestion des collisions par sondage\n",
    "\n",
    "Recommencer tout avec une gestion par sondage. Paramétrer avec une fonction donnant la séquence de sondage pour pouvoir en tester plusieurs."
   ]
  }
 ],
 "metadata": {
  "kernelspec": {
   "display_name": "Python 3 (ipykernel)",
   "language": "python",
   "name": "python3"
  },
  "language_info": {
   "codemirror_mode": {
    "name": "ipython",
    "version": 3
   },
   "file_extension": ".py",
   "mimetype": "text/x-python",
   "name": "python",
   "nbconvert_exporter": "python",
   "pygments_lexer": "ipython3",
   "version": "3.10.12"
  }
 },
 "nbformat": 4,
 "nbformat_minor": 5
}
