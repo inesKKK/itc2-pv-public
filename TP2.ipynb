{
 "cells": [
  {
   "cell_type": "markdown",
   "metadata": {},
   "source": [
    "# TP2 : chiffrement par fonction de hachage (en autonomie)\n",
    "\n",
    "## Fin TP1 [PSI]\n",
    "Finir le TP1\n",
    "\n",
    "## Fonctions de hachage pour stocker des mots de passe\n",
    "\n",
    "Beaucoup de système identifient leurs utilisateurs avec un identifiant et un mot de passe, de façon à éviter les usurpations d'identité. Si les mots de passe sont stockés de façon lisible dans un fichier, il existe toujours un risque qu'une personne malintentionnée les trouve et se fasse passer pour quelqu'un d'autre. Une façon de procéder pour éviter ce problème est de considérer une fonction $h$ qui à une chaîne de caractères associe une clef, de sorte qu'il y ait une probabilité négligeable pour que deux chaînes différentes possèdent la même clef. Cela ressemble beaucoup à une fonction de hachage. Ici on demande en plus qu'il soit difficile de trouver la chaîne de départ à partir de la clef.\n",
    "\n",
    "Ainsi ce qui est stocké dans le système n'est pas le mot de passe, mais son image par $h$. À la connexion, le système vérifie que l'image par $h$ du mot de passe entrée coïncide avec la clef sauvegardée (on est quasiment sûr que cela signifie que le mot de passe est correct, d'après la propriété de construction). Si une personne mal intentionnée récupère les clefs, elle ne peut pas reconstruire les mots de passe.\n",
    "\n",
    "Le but de cet énoncé est de tester expérimentalement que les tentatives pour récupérer un mot de passe à partir d'une clef par force brute (c'est-à-dire en testant tous les mots de passe possibles) ont une complexité temporelle prohibitive. Pour cette expérimentation, on se limite à des mots de passe écrit sur l'alphabet en minuscules, qu'on peut obtenir de la façon suivante:"
   ]
  },
  {
   "cell_type": "code",
   "execution_count": null,
   "metadata": {},
   "outputs": [],
   "source": [
    "import string\n",
    "\n",
    "string.ascii_lowercase"
   ]
  },
  {
   "cell_type": "markdown",
   "metadata": {},
   "source": [
    "**Exercice**\n",
    "\n",
    "Écrire une fonction `tous_les_mots` qui prend en argument un entier strictement positif `n` et renvoie la liste de tous les mots de longueur `n` sur l'alphabet des minuscules."
   ]
  },
  {
   "cell_type": "code",
   "execution_count": null,
   "metadata": {},
   "outputs": [],
   "source": [
    "# Écrire votre code ici\n",
    "raise NotImplementedError # effacer cette ligne une fois le code écrit"
   ]
  },
  {
   "cell_type": "code",
   "execution_count": null,
   "metadata": {},
   "outputs": [],
   "source": [
    "assert(len(tous_les_mots(1)) == 26)\n",
    "assert(len(tous_les_mots(4)) == 26**4)"
   ]
  },
  {
   "cell_type": "markdown",
   "metadata": {},
   "source": [
    "**Exercice**\n",
    "\n",
    "On va utiliser la fonction de hachage `md5` de la librairie `hashlib`, pour obtenir la valeur hachée associée à une chaîne de caractères, on peut utiliser"
   ]
  },
  {
   "cell_type": "code",
   "execution_count": null,
   "metadata": {},
   "outputs": [],
   "source": [
    "import hashlib\n",
    "\n",
    "hashlib.md5('chaine'.encode('utf-8')).hexdigest()"
   ]
  },
  {
   "cell_type": "markdown",
   "metadata": {},
   "source": [
    "Écrire une fonction `generer_codages` qui prend en argument une liste de chaîne de caractères et renvoie un dictionnaire dont les clefs sont les valeurs hachées obtenues à partir de ces chaînes et la valeur associée à une clef contient toutes les chaînes dont la clef est la valeur hachée."
   ]
  },
  {
   "cell_type": "code",
   "execution_count": null,
   "metadata": {},
   "outputs": [],
   "source": [
    "assert(generer_codages(tous_les_mots(4))['f71dbe52628a3f83a77ab494817525c6'][0] == 'toto')"
   ]
  },
  {
   "cell_type": "markdown",
   "metadata": {},
   "source": [
    "Testons le temps de génération de toutes ces clefs.\n",
    "\n",
    "Pour des mots de passe de longueur 4:"
   ]
  },
  {
   "cell_type": "code",
   "execution_count": null,
   "metadata": {},
   "outputs": [],
   "source": [
    "%%time\n",
    "codes = generer_codages(tous_les_mots(4))"
   ]
  },
  {
   "cell_type": "markdown",
   "metadata": {},
   "source": [
    "Pour des mots de longueur 5:"
   ]
  },
  {
   "cell_type": "code",
   "execution_count": null,
   "metadata": {},
   "outputs": [],
   "source": [
    "%%time\n",
    "codes = generer_codages(tous_les_mots(5))"
   ]
  },
  {
   "cell_type": "markdown",
   "metadata": {},
   "source": [
    "Sur ma machine le temps est multiplié par 4, et je l'ai fait planter pour des mots de longueur 8. \n",
    "\n",
    "Conclusion: si on prend des mots de passe de longueur 8, même uniquement sur des lettres minuscules, la méthode naïve pour casser un mot de passe est beaucoup trop longue."
   ]
  }
 ],
 "metadata": {
  "kernelspec": {
   "display_name": "Python 3",
   "language": "python",
   "name": "python3"
  },
  "language_info": {
   "codemirror_mode": {
    "name": "ipython",
    "version": 3
   },
   "file_extension": ".py",
   "mimetype": "text/x-python",
   "name": "python",
   "nbconvert_exporter": "python",
   "pygments_lexer": "ipython3",
   "version": "3.6.9"
  }
 },
 "nbformat": 4,
 "nbformat_minor": 4
}
