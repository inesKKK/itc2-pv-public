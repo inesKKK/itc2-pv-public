{
 "cells": [
  {
   "cell_type": "markdown",
   "metadata": {},
   "source": [
    "# TP1 : dictionnaires et fonctions de hachage (en autonomie)\n",
    "\n",
    "En raison de la photo pendant la séance des PSI, il y a un décalage sur les TP.\n",
    "\n",
    "## Dictionnaires [MP+PSI]\n",
    "Vous pouvez faire par le TP proposé en sup : <a href=\"https://mybinder.org/v2/gh/inesKKK/mpsi-pv-binder/main?urlpath=git-pull%3Frepo%3Dhttps%253A%252F%252Fgithub.com%252FinesKKK%252Fmpsi-pv%26urlpath%3Dtree%252Fmpsi-pv%252FTP14.ipynb%26branch%3Dmaster\"><img src=\"https://mybinder.org/badge_logo.svg\" alt=\"Binder\"></a>\n",
    "\n",
    "* Vous devez être capables de faire l'exercice 1,\n",
    "* Pour les exercices 2 et 3, il faut lire des fichiers (avec un programme), petit rappel si besoin: <a href=\"https://mybinder.org/v2/gh/inesKKK/mpsi-pv-binder/main?urlpath=git-pull%3Frepo%3Dhttps%253A%252F%252Fgithub.com%252FinesKKK%252Fmpsi-pv%26urlpath%3Dtree%252Fmpsi-pv%252FTP13.ipynb%26branch%3Dmaster\"><img src=\"https://mybinder.org/badge_logo.svg\" alt=\"Binder\"></a>\n",
    "* L'exercice 3 est difficile et sauf erreur de ma part il n'avait été traité que par une seule élève l'an dernier.\n",
    "\n",
    "## Fonctions de hachage [MP]\n",
    "Dans cette partie, on utilisera le fichier [prenoms.csv](prenoms.csv) (qui a été obtenu à partir de [cette liste de prénoms](https://www.insee.fr/fr/statistiques/2540004). (Pour la lecture de fichiers, voir au-dessus.) Il s'agit d'une liste de prénoms en majuscules sans accents (mais parfois avec d'autres caractères: espaces, tirets, apostrophes).\n",
    "\n",
    "On se propose de construire la fonction suivante, qui à un prénom associe un entier entre 0 et 9999: on associe 0 à un caractère qui n'est pas une lettre majuscule non accentuée et un entier non nul à chaque lettre majuscule non accentuée, et on somme les entiers associés aux lettres de chaque prénom (avec leur multiplicité). Nous allons tester plusieurs fonctions de hachage qui reposent toutes sur ce principe (la différence se situe dans la façon dont on va associer un nombre à une lettre) et regarder le nombre maximal de collisions obtenues en fonction de la valeur hachée.\n",
    "\n",
    "On a 10000 alvéoles et 36170 prénoms. Dans l'idéal, on devrait avoir de l'ordre de 4 prénoms par alvéole.\n",
    "\n",
    "On rappelle que le maximum d'un tableau peut être obtenu avec la fonction `max` (que vous devez être capables de recoder cependant):"
   ]
  },
  {
   "cell_type": "code",
   "execution_count": null,
   "metadata": {},
   "outputs": [],
   "source": [
    "max([3, 2, 9, -5, 8])"
   ]
  },
  {
   "cell_type": "markdown",
   "metadata": {},
   "source": [
    "**Exercice**\n",
    "1. On peut obtenir le code ascii d'un caractère avec la fonction `ord`:"
   ]
  },
  {
   "cell_type": "code",
   "execution_count": null,
   "metadata": {},
   "outputs": [],
   "source": [
    "ord('€')"
   ]
  },
  {
   "cell_type": "markdown",
   "metadata": {},
   "source": [
    "et un caractère à partir de son code ascii avec la fonction `chr`:"
   ]
  },
  {
   "cell_type": "code",
   "execution_count": null,
   "metadata": {},
   "outputs": [],
   "source": [
    "chr(36)"
   ]
  },
  {
   "cell_type": "markdown",
   "metadata": {},
   "source": [
    "Écrire une fonction `nombre` qui prend en argument une chaîne de caractères supposée de longueur 1 et renvoie 0 si l'unique caractère n'est pas une lettre majuscule sans accent, et l'ordre de cette lettre sinon (ordre(A)=1 et ordre(Z)=26). N'oubliez pas de commenter votre code à bon escient!"
   ]
  },
  {
   "cell_type": "code",
   "execution_count": null,
   "metadata": {},
   "outputs": [],
   "source": [
    "# Écrire votre code ici\n",
    "raise NotImplementedError # effacer cette ligne une fois le code écrit"
   ]
  },
  {
   "cell_type": "code",
   "execution_count": null,
   "metadata": {},
   "outputs": [],
   "source": [
    "assert(nombre('A') == 1)\n",
    "assert(nombre('Z') == 26)\n",
    "assert(nombre('-') == 0)"
   ]
  },
  {
   "cell_type": "markdown",
   "metadata": {},
   "source": [
    "2. Écrire une fonction `hachee` qui prend en argument une chaîne de caractères et une fonction supposée associer un entier à une lettre, et lui associe sa valeur hachée comme décrite ci-dessus."
   ]
  },
  {
   "cell_type": "code",
   "execution_count": null,
   "metadata": {},
   "outputs": [],
   "source": [
    "# Écrire votre code ici\n",
    "raise NotImplementedError # effacer cette ligne une fois le code écrit"
   ]
  },
  {
   "cell_type": "code",
   "execution_count": null,
   "metadata": {},
   "outputs": [],
   "source": [
    "assert(hachee('NADIA', nombre) == 29)"
   ]
  },
  {
   "cell_type": "markdown",
   "metadata": {},
   "source": [
    "**Exercice** Écrire une fonction `max_collisions` qui renvoie le maximum de collisions obtenues avec la fonction `nombre` ci-dessus, c'est-à-dire le plus grand entier $n$ tel qu'il existe une valeur hachée qui correspond à $n+1$ prénoms de la liste. Cette fonction doit prendre en argument le nom de la fonction utilisée pour calculer les nombres associés aux lettres."
   ]
  },
  {
   "cell_type": "code",
   "execution_count": null,
   "metadata": {},
   "outputs": [],
   "source": [
    "# Écrire votre code ici\n",
    "raise NotImplementedError # effacer cette ligne une fois le code écrit"
   ]
  },
  {
   "cell_type": "markdown",
   "metadata": {},
   "source": [
    "Sauf erreur, le nombre maximal de collisions est de 643 (très loin de ce qu'on espérait):"
   ]
  },
  {
   "cell_type": "code",
   "execution_count": null,
   "metadata": {},
   "outputs": [],
   "source": [
    "assert(max_collisions(nombre) == 643)"
   ]
  },
  {
   "cell_type": "markdown",
   "metadata": {},
   "source": [
    "**Exercice**\n",
    "On considère maintenant la fonction de hachage suivante: à la lettre $\\ell\\in \\{A,\\dots ,Z\\}$, on associe la valeur $2^{\\text{ordre}(\\ell)}$, on associe toujours 0 aux autres caractères. Écrire une fonction `nombre2` qui implémente cette valeur."
   ]
  },
  {
   "cell_type": "code",
   "execution_count": null,
   "metadata": {},
   "outputs": [],
   "source": [
    "# Écrire votre code ici\n",
    "raise NotImplementedError # effacer cette ligne une fois le code écrit"
   ]
  },
  {
   "cell_type": "markdown",
   "metadata": {},
   "source": [
    "Sauf erreur, le nombre maximal de collisions est de 57 (très loin de ce qu'on espérait, mais nettement mieux):"
   ]
  },
  {
   "cell_type": "code",
   "execution_count": null,
   "metadata": {},
   "outputs": [],
   "source": [
    "assert(max_collisions(nombre2) == 57)"
   ]
  },
  {
   "cell_type": "code",
   "execution_count": null,
   "metadata": {},
   "outputs": [],
   "source": []
  }
 ],
 "metadata": {
  "kernelspec": {
   "display_name": "Python 3",
   "language": "python",
   "name": "python3"
  },
  "language_info": {
   "codemirror_mode": {
    "name": "ipython",
    "version": 3
   },
   "file_extension": ".py",
   "mimetype": "text/x-python",
   "name": "python",
   "nbconvert_exporter": "python",
   "pygments_lexer": "ipython3",
   "version": "3.6.9"
  }
 },
 "nbformat": 4,
 "nbformat_minor": 4
}
