{
 "cells": [
  {
   "cell_type": "markdown",
   "id": "d59b0f82",
   "metadata": {},
   "source": [
    "# ITC2 - MP/PSI\n",
    "---"
   ]
  },
  {
   "cell_type": "markdown",
   "id": "c5620ec1",
   "metadata": {},
   "source": [
    "# TP1 : Révisions : dictionnaires, lecture dans un fichier et utilisation d'un module externe\n",
    " \n",
    "Rappel : Un _dictionnaire_ est une structure de données `python` qui permet d'associer une clef à une valeur (comme une fonction mathématique qui serait définie sur un domaine fini en quelque sorte).\n",
    "\n",
    "Les valeurs peuvent être d'un type quelconque, mais il y a des restrictions sur les ensembles possibles de clefs: les clefs peuvent prendre leurs valeurs dans tous les types que nous avons déjà croisés, sauf les listes et les dictionnaires. Les symboles de délimitation d'un dictionnaire sont des accolades `{` `}`. Par ailleurs une clef ne peut apparaître plusieurs fois (de même qu'une fonction mathématique ne peut associer plusieurs valeurs à une valeur donnée)."
   ]
  },
  {
   "cell_type": "markdown",
   "id": "49930af0",
   "metadata": {},
   "source": [
    "En première approximation, on peut imaginer les dictionnaires comme des structures permettant de stocker des données nommées plutôt que numérotées (à comparer avec les listes):"
   ]
  },
  {
   "cell_type": "markdown",
   "id": "b2407891",
   "metadata": {},
   "source": [
    "## Exercice 1 : tri\n",
    "On souhaite trier un tableau d'entiers positifs en comptant les occurrences de chaque valeur qui y apparaît.\n",
    "\n",
    "1. Écrire et documenter une fonction `denombre` qui prend une liste d'entiers en argument et renvoie un dictionnaire qui permet d'avoir le nombre d'occurrence de chacun de ses arguments."
   ]
  },
  {
   "cell_type": "code",
   "execution_count": null,
   "id": "ac8ddf55",
   "metadata": {},
   "outputs": [],
   "source": []
  },
  {
   "cell_type": "code",
   "execution_count": null,
   "id": "c0aa1ad6",
   "metadata": {},
   "outputs": [],
   "source": [
    "assert(denombre([]) == {})\n",
    "assert(denombre([15356]) == {15356: 1})\n",
    "assert(denombre([0,0,0,0]) == {0: 4})\n",
    "assert(denombre([0,0,0,1,1,1,1,1,3,3,3]) == {0: 3, 1: 5, 3: 3})\n",
    "assert(denombre([3,7,2,9,1,0,3]) == {3: 2, 7: 1, 2: 1, 9: 1, 1: 1, 0: 1})"
   ]
  },
  {
   "cell_type": "markdown",
   "id": "e3925fac",
   "metadata": {},
   "source": [
    "2. Écrire et documenter une fonction `tri` qui prend en argument une liste d'entiers positifs et renvoie une nouvelle liste triée composée des mêmes valeurs, en utilisant la fonction `denombre` et la fonction `max` (qui renvoie le maximum d'une liste, mais aussi le maximum des clefs d'un dictionnaire)."
   ]
  },
  {
   "cell_type": "code",
   "execution_count": null,
   "id": "9b3a705f",
   "metadata": {},
   "outputs": [],
   "source": []
  },
  {
   "cell_type": "code",
   "execution_count": null,
   "id": "1bf05254",
   "metadata": {},
   "outputs": [],
   "source": [
    "assert(tri([]) == [])\n",
    "assert(([15356]) == [15356])\n",
    "assert(tri([0,0,0,0]) == [0,0,0,0])\n",
    "assert(tri([0,0,0,1,1,1,1,1,3,3,3]) == [0,0,0,1,1,1,1,1,3,3,3])\n",
    "assert(tri([3,3,3,1,1,1,1,1,0,0,0]) == [0,0,0,1,1,1,1,1,3,3,3])\n",
    "assert(tri([3,7,2,9,1,0,3]) == [0, 1, 2, 3, 3, 7, 9])"
   ]
  },
  {
   "cell_type": "markdown",
   "id": "7f177680",
   "metadata": {},
   "source": [
    "## Exercice 2 : fréquence des lettres en Français\n",
    "Pour cet exercice, on se base sur le texte [Les_Liaisons_dangereuses.txt](Les_Liaisons_dangereuses.txt) (que vous connaissez bien). On désire connaître la fréquence de chaque lettre dans ce texte.\n",
    "\n",
    "On rappelle que la lecture dans un fichier se fait après ouverture (`open`) avec une des trois fonctions `read`, `readline` et `readlines`."
   ]
  },
  {
   "cell_type": "markdown",
   "id": "d73d23aa",
   "metadata": {},
   "source": [
    "1. Écrire et documenter une fonction `occurrences` qui prend en argument un nom de fichier et renvoie un dictionnaire avec le nombre d'apparitions de chaque caractère (lettre ou autre, sans distinction) dans ce texte."
   ]
  },
  {
   "cell_type": "code",
   "execution_count": null,
   "id": "9e1a476e",
   "metadata": {},
   "outputs": [],
   "source": []
  },
  {
   "cell_type": "code",
   "execution_count": null,
   "id": "180aa612",
   "metadata": {},
   "outputs": [],
   "source": [
    "assert(occurrences('vide') == {})\n",
    "\n",
    "d = occurrences('Les_Liaisons_dangereuses.txt')\n",
    "assert(d['T'] == 228 and d['u'] == 43115 and d['?'] == 771 and 'ö' not in d)"
   ]
  },
  {
   "cell_type": "markdown",
   "id": "367ef613",
   "metadata": {},
   "source": [
    "2. Écrire et documenter une fonction `frequences` qui prend en argument un dictionnaire dont on suppose (sans avoir à le vérifier) que les valeurs sont des nombres et renvoie la liste des couples (clef,valeur) dans l'ordre décroissants des valeurs. Pour accéder aux composantes des couples, on utilise la même notation que pour accéder aux cases des listes : `c[0]` par exemple."
   ]
  },
  {
   "cell_type": "code",
   "execution_count": null,
   "id": "d6f7d7db",
   "metadata": {},
   "outputs": [],
   "source": []
  },
  {
   "cell_type": "code",
   "execution_count": null,
   "id": "4f73ccb3",
   "metadata": {},
   "outputs": [],
   "source": [
    "assert(frequences({}) == [])\n",
    "assert(frequences({0: 1}) == [(0, 1)])\n",
    "assert(frequences({3: 6, 7: 5, 2: 4, 9: 3, 1: 2, 0: 1}) == [(3, 6), (7, 5), (2, 4), (9, 3), (1, 2), (0, 1)])\n",
    "assert(frequences({'a':23, 'e':12, 'i':7423, 'o':32112, 'y':2}) == \n",
    "       [('o', 32112), ('i', 7423), ('a', 23), ('e', 12), ('y', 2)])\n",
    "d = occurrences('Les_Liaisons_dangereuses.txt')\n",
    "assert(frequences(d)[1] == ('e', 97345) and frequences(d)[42] == ('?', 771))"
   ]
  },
  {
   "cell_type": "markdown",
   "id": "28d898f8",
   "metadata": {},
   "source": [
    "3. On veut maintenant se restreindre à regarder les lettres d'un texte et pas tous les caractères. La méthode `isalpha` sur les chaînes de caractères permet de déterminer si une chaîne ne contient que des lettres ou pas :"
   ]
  },
  {
   "cell_type": "code",
   "execution_count": null,
   "id": "a5181168",
   "metadata": {},
   "outputs": [],
   "source": [
    "'abcde'.isalpha()"
   ]
  },
  {
   "cell_type": "code",
   "execution_count": null,
   "id": "9991c641",
   "metadata": {},
   "outputs": [],
   "source": [
    "'abcd5'.isalpha()"
   ]
  },
  {
   "cell_type": "markdown",
   "id": "34e1c958",
   "metadata": {},
   "source": [
    "Écrire et documenter une fonction `que_lettres` qui prend en argument une liste de couple comme renvoyée par `frequence` et renvoie la liste des seuls couples dont la première composante est une lettre (en conservant l'ordre d'apparition)."
   ]
  },
  {
   "cell_type": "code",
   "execution_count": null,
   "id": "995b0813",
   "metadata": {},
   "outputs": [],
   "source": []
  },
  {
   "cell_type": "code",
   "execution_count": null,
   "id": "bf16b9ad",
   "metadata": {},
   "outputs": [],
   "source": [
    "L = que_lettres(frequences(occurrences('Les_Liaisons_dangereuses.txt')))\n",
    "assert(L[17] == ('f', 6568) and L[42] == ('ô', 317))"
   ]
  },
  {
   "cell_type": "markdown",
   "id": "b7ac2294",
   "metadata": {},
   "source": [
    "4. On souhaite représenter tout cela sous forme  d'un diagramme camembert. Voici un exemple d'utilisation d'un tel diagramme :"
   ]
  },
  {
   "cell_type": "code",
   "execution_count": null,
   "id": "58468140",
   "metadata": {},
   "outputs": [],
   "source": [
    "from matplotlib import pyplot\n",
    "donnees = [23, 17, 35, 29, 12, 41]\n",
    "legende = ['a', 'b', 'c', 'd', 'e', 'f']\n",
    "\n",
    "pyplot.pie(donnees, labels=legende)\n",
    "pyplot.show()"
   ]
  },
  {
   "cell_type": "markdown",
   "id": "b15612ff",
   "metadata": {},
   "source": [
    "Écrire et documenter une fonction `statistiques` qui prend en argument une liste de couples comme renvoyés par la fonction `frequences` et affiche le diagramme camembert correspondant, dans l'ordre des fréquences."
   ]
  },
  {
   "cell_type": "code",
   "execution_count": null,
   "id": "0cb601b3",
   "metadata": {},
   "outputs": [],
   "source": []
  },
  {
   "cell_type": "code",
   "execution_count": null,
   "id": "f4426768",
   "metadata": {},
   "outputs": [],
   "source": [
    "statistiques(que_lettres(frequences(occurrences('Les_Liaisons_dangereuses.txt'))))"
   ]
  },
  {
   "cell_type": "markdown",
   "id": "0cef38fe",
   "metadata": {},
   "source": [
    "Pour vous aidez à vérifier, voici mes propres statistiques sur ce texte :\n",
    "    ![](mes_stats.png)"
   ]
  },
  {
   "cell_type": "markdown",
   "id": "ac7522ac",
   "metadata": {},
   "source": [
    "## Exercice 3 : déchiffre un texte mystère\n",
    "En combinant ce qui a été fait dans l'exercice précédent, trouver le texte [mystere.txt](mystere.txt) où les lettre ont été modifiée : seules les lettres non accentuées ont été modifiées, chaque occurrence d'une lettre a été remplacée par la même lettre, ce remplacement est injectif."
   ]
  },
  {
   "cell_type": "code",
   "execution_count": null,
   "id": "10db6f20",
   "metadata": {},
   "outputs": [],
   "source": []
  }
 ],
 "metadata": {
  "kernelspec": {
   "display_name": "Python 3 (ipykernel)",
   "language": "python",
   "name": "python3"
  },
  "language_info": {
   "codemirror_mode": {
    "name": "ipython",
    "version": 3
   },
   "file_extension": ".py",
   "mimetype": "text/x-python",
   "name": "python",
   "nbconvert_exporter": "python",
   "pygments_lexer": "ipython3",
   "version": "3.10.12"
  }
 },
 "nbformat": 4,
 "nbformat_minor": 5
}
