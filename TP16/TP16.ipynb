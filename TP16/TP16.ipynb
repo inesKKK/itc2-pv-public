{
 "cells": [
  {
   "cell_type": "markdown",
   "metadata": {},
   "source": [
    "# TP16 : Enveloppe convexe, algorithme de Graham\n",
    "On appelle _nuage de points_ un ensemble fini de points du plan.\n",
    "Il s'agit ici de calculer l'enveloppe convexe d'un nuage de points.\n",
    "\n",
    "Dans tout ce qui suit, on supposera, sans avoir à le vérifier, que :\n",
    "* tous les nuages de points considérés ont cardinal au moins 3;\n",
    "* tous les points sont à coordonnées entières;\n",
    "* les points d'un nuage sont deux à deux distincts et\n",
    "* les points d'un nuage sont en position générale (c'est-à-dire que trois points quelconques du nuage ne sont jamais alignés)."
   ]
  },
  {
   "cell_type": "markdown",
   "metadata": {},
   "source": [
    "### Exercice 1 : lecture de points dans un fichier\n",
    "Écrire une fonction `lecture` qui prend en argument un nom de fichier contenant sur chaque ligne deux entiers séparés par une virgule et représentants des coordonnées de points (dans l'ordre: abscisse puis ordonnée) et renvoie un couple de listes dont la première contient les abscisses des points et la deuxième les ordonnées (sous forme d'entiers, pas de chaînes de caractères)."
   ]
  },
  {
   "cell_type": "code",
   "execution_count": null,
   "metadata": {},
   "outputs": [],
   "source": []
  },
  {
   "cell_type": "code",
   "execution_count": null,
   "metadata": {},
   "outputs": [],
   "source": [
    "abs, ord = lecture('points1')\n",
    "assert(len(abs) == 46 and len(ord) == 46)\n",
    "assert(abs[17] == 0 and ord[17] == -8)"
   ]
  },
  {
   "cell_type": "markdown",
   "metadata": {},
   "source": [
    "## Tracer des points\n",
    "Pour tracer des points, on utilise le module `matplotlib.pyplot`, par exemple de la manière suivante:"
   ]
  },
  {
   "cell_type": "code",
   "execution_count": null,
   "metadata": {},
   "outputs": [],
   "source": [
    "%matplotlib inline  \n",
    "##la ligne précédente n'est pas du python, elle est là pour que l'affichage se fasse sur le notebook\n",
    "\n",
    "import matplotlib.pyplot as plt \n",
    "\n",
    "def trace(x, y, color=\"blue\"):\n",
    "    \"\"\"x : tableau des abscisses\n",
    "    y : tableau des ordonnées\n",
    "    color : couleur (bleu par défaut)\"\"\"\n",
    "    assert(len(x) == len(y))\n",
    "    plt.scatter(x, y, color=color)\n",
    "\n",
    "trace([1,2,3,4,5,6], [2,1,7,6,3,9])"
   ]
  },
  {
   "cell_type": "markdown",
   "metadata": {},
   "source": [
    "Pour tracer des traits entre les points, on utilise le même module, par exemple de la manière suivante:"
   ]
  },
  {
   "cell_type": "code",
   "execution_count": null,
   "metadata": {},
   "outputs": [],
   "source": [
    "%matplotlib inline  \n",
    "##la ligne précédente n'est pas du python, elle est là pour que l'affichage se fasse sur le notebook\n",
    "\n",
    "import matplotlib.pyplot as plt \n",
    "\n",
    "def polygone(x, y, color=\"red\"):\n",
    "    \"\"\"x : tableau des abscisses\n",
    "    y : tableau des ordonnées\n",
    "    color : couleur (rouge par défaut)\"\"\"\n",
    "    assert(len(x) == len(y))\n",
    "    plt.plot(x+[x[0]], y+[y[0]], color=color)\n",
    "\n",
    "polygone([1,2,5,6,3], [2,1,3,9,6])"
   ]
  },
  {
   "cell_type": "markdown",
   "metadata": {},
   "source": [
    "On peut par exemple tracer ;es points lus dans un fichier:"
   ]
  },
  {
   "cell_type": "code",
   "execution_count": null,
   "metadata": {},
   "outputs": [],
   "source": [
    "abs, ord = lecture('points1')\n",
    "trace(abs, ord)"
   ]
  },
  {
   "cell_type": "markdown",
   "metadata": {},
   "source": [
    "### Exercice 2 : point le plus bas\n",
    "Écrire une fonction `plus_bas` qui prend en argument un tableau d'abscisses et un tableau d'ordonnées et renvoie l'indice du point le plus bas. S'il y a plusieurs points les plus bas, alors la fonction doit renvoyer l'indice du point le plus à gauche parmi les points les plus bas."
   ]
  },
  {
   "cell_type": "code",
   "execution_count": null,
   "metadata": {},
   "outputs": [],
   "source": []
  },
  {
   "cell_type": "code",
   "execution_count": null,
   "metadata": {},
   "outputs": [],
   "source": [
    "abs, ord = lecture('points1')\n",
    "assert(plus_bas(abs, ord) == 4)"
   ]
  },
  {
   "cell_type": "markdown",
   "metadata": {},
   "source": [
    "### Exercice 3 : orientation\n",
    "Étant donnés trois points $p,q,r$ d'un nuage de points, distincts ou non, le test d'orientation renvoie un entier strictement positif si la suite $(p,q,r)$ est orientée positivement, un entier strictement négatif si elle est orientée négativement et $0$ si les trois points sont alignés (c'est-à-dire si deux au moins d'entre eux sont égaux, d'après l'hypothèse de position générale).\n",
    "\n",
    "![](orientation.png)"
   ]
  },
  {
   "cell_type": "markdown",
   "metadata": {},
   "source": [
    "Pour déterminer l’orientation de $(p,q,r)$, il suffit de calculer l’aire signée du triangle, comme illustré sur la figure précédente. Cette aire est la moitié du déterminant de la matrice $2\\times 2$ formée par les coordonnées des vecteurs $\\vec{pq}$ et $\\vec{pr}$.\n",
    "\n",
    "Écrire une fonction `orientation` qui prend en argument trois triplets contenant respectivement les abscisses et les ordonnées des points $p$ , $q$ et $r$ (dans cet ordre) et renvoie l'orientation de $(p,q,r)$ telle que décrite ci-dessus."
   ]
  },
  {
   "cell_type": "code",
   "execution_count": null,
   "metadata": {},
   "outputs": [],
   "source": [
    "def orientation(p, q, r):\n",
    "    return (q[0]-p[0])*(r[1]-p[1]) - (q[1]-p[1])*(r[0]-p[0])"
   ]
  },
  {
   "cell_type": "code",
   "execution_count": null,
   "metadata": {},
   "outputs": [],
   "source": [
    "p = (1, 3)\n",
    "q = (5, 7)\n",
    "r = (-2, 4)\n",
    "assert(orientation(p, q, r) > 0)\n",
    "assert(orientation(p, r, q) < 0)\n",
    "assert(orientation(q, p, r) < 0)\n",
    "assert(orientation(q, r, p) > 0)"
   ]
  },
  {
   "cell_type": "markdown",
   "metadata": {},
   "source": [
    "## Algorithme de balayage\n",
    "Cet algorithme a été proposé par R. Graham en 1972. Nous allons écrire la variante (plus simple) proposée par A. Andrew quelques années plus tard.\n",
    "\n",
    "**On suppose que les points fournis dans un nuage de points sont triés par abscisses croissantes.**\n",
    "\n",
    "L'idée de l'algorithme est de balayer le nuage de points horizontalement de gauche à droite par une droite verticale, tout en mettant à jour l'enveloppe convexe des points du nuage situés à gauche de cette droite, comme illustré dans la figure suivante:\n",
    "\n",
    "![](algo.png)"
   ]
  },
  {
   "cell_type": "markdown",
   "metadata": {},
   "source": [
    "Plus précisément, l'algorithme visite chaque point du nuage une fois, par ordre croissant d'abscisses (donc par ordre croissant d'indice dans les listes de coordonnés de points du nuage car celles sont triées en fonction des abscisses des points par hypothèse). \n",
    "\n",
    "À chaque\n",
    "nouveau point $p_i$ visité, il met à jour le bord de l'enveloppe convexe du sous-nuage $\\{p_0,\\dots,p_i\\}$ situé à gauche de $p_i$. On remarque que les points $p_0$ et $p_i$ sont sur ce bord, et on appelle\n",
    "_enveloppe supérieure_ la partie du bord de l'enveloppe convexe de $\\{p_0,\\dots,p_i\\}$ située au-dessus de la droite passant par $p_0$ et $p_i$ ($p_0$ et $p_i$ compris), et _enveloppe inférieure_ la partie du bord de l'enveloppe convexe de $\\{p_0,\\dots,p_i\\}$ située au-dessous de cette droite ($p_0$ et $p_i$ compris). Le bord de l'enveloppe convexe de $\\{p_0,\\dots,p_i\\}$ est donc constitué de l'union de ces deux enveloppes, après suppression des\n",
    "doublons de $p_0$ et $p_i$.\n",
    "\n",
    "**exemple:**\n",
    "Dans le cas du nuage de la partie gauche de la figure ci-dessus, le sous-nuage $\\{p_0,p_1,p_2,p_3,p_4\\}$ a pour enveloppe supérieure la suite $(p_0,p_2,p_4)$ et pour enveloppe inférieure la suite $(p_0,p_3,p_4)$, le bord de son enveloppe convexe étant donné par la suite $(p_0,p_3,p_4,p_2)$.\n",
    "\n",
    "Informatiquement, les indices des sommets des enveloppes inférieure et supérieure seront stockés dans deux listes d'entiers séparées, `ei` (pour *enveloppe inférieure*) et`es` (pour *enveloppe supérieure*).\n",
    "\n",
    "La mise à jour de l'enveloppe supérieure est illustrée dans la figure suivante:\n",
    "\n",
    "![](maj_env.png)\n",
    "\n",
    "Tant que le point visité (ici $p_9$) et les deux points dont les indices sont situés à la fin de la liste `es` (ici $p_8$ et $p_5$) forment une séquence d'orientation négative (ici $(p_9,p_8,p_5)$), on supprime l'indice situé à la fin de la liste `es` (ici $p_8$). On poursuit ce processus d'élimination jusqu'à ce que l'orientation devienne positive ou qu'il ne reste plus qu'un seul indice dans la liste. L'indice du point visité (ici $p_9$) est alors ajouté à la fin de `es`. La mise à jour de l'enveloppe inférieure s'opère de manière symétrique."
   ]
  },
  {
   "cell_type": "markdown",
   "metadata": {},
   "source": [
    "### Exercice 4 : mise à jour des enveloppes inférieure et supérieure\n",
    "Écrire une fonction `maj` qui prend en argument deux listes représentant les abscisses et les ordonnées de points d'un nuage $P$, l'indice $i$ d'un point dans ce nuage, une liste pour l'enveloppe (inférieure ou supérieure) des $i$ premiers points de $P$ et un signe permettant de savoir si on travaille sur l'enveloppe supérieure ou l'enveloppe inférieure (1 pour l'enveloppe supérieure, -1 pour l'enveloppe inférieure), et met à jour la pile en tenant compte du point de $P$ d'indice $i$ en suivant l'algorithme décrit ci-dessus.\n"
   ]
  },
  {
   "cell_type": "code",
   "execution_count": null,
   "metadata": {},
   "outputs": [],
   "source": []
  },
  {
   "cell_type": "code",
   "execution_count": null,
   "metadata": {},
   "outputs": [],
   "source": [
    "abs, ord = [1,2,3,4,5,6], [2,1,7,6,3,9]\n",
    "es = []\n",
    "maj(abs, ord, 0, es, 1)\n",
    "assert(es == [0])\n",
    "maj(abs, ord, 1, es, 1)\n",
    "assert(es == [0, 1])\n",
    "maj(abs, ord, 2, es, 1)\n",
    "assert(es == [0, 2])\n",
    "maj(abs, ord, 3, es, 1)\n",
    "assert(es == [0, 2, 3])\n",
    "maj(abs, ord, 4, es, 1)\n",
    "assert(es == [0, 2, 3, 4])\n",
    "maj(abs, ord, 5, es, 1)\n",
    "assert(es == [0, 2, 5])\n",
    "\n",
    "ei = []\n",
    "maj(abs, ord, 0, ei, -1)\n",
    "assert(ei == [0])\n",
    "maj(abs, ord, 1, ei, -1)\n",
    "assert(ei == [0, 1])\n",
    "maj(abs, ord, 2, ei, -1)\n",
    "assert(ei == [0, 1, 2])\n",
    "maj(abs, ord, 3, ei, -1)\n",
    "assert(ei == [0, 1, 3])\n",
    "maj(abs, ord, 4, ei, -1)\n",
    "assert(ei == [0, 1, 4])\n",
    "maj(abs, ord, 5, ei, -1)\n",
    "assert(ei == [0, 1, 4, 5])"
   ]
  },
  {
   "cell_type": "markdown",
   "metadata": {},
   "source": [
    "### Exercice 5 : enveloppe convexe\n",
    "Écrire une fonction `enveloppe_convexe` qui prend en argument une liste d'abscisses et une liste d'ordonnées d'un nuage de points et renvoie une liste d'indices donnant son enveloppe convexe."
   ]
  },
  {
   "cell_type": "code",
   "execution_count": null,
   "metadata": {},
   "outputs": [],
   "source": []
  },
  {
   "cell_type": "code",
   "execution_count": null,
   "metadata": {},
   "outputs": [],
   "source": [
    "abs, ord = [1,2,3,4,5,6], [2,1,7,6,3,9]\n",
    "assert(enveloppe_convexe(abs, ord) == [0, 1, 4, 5, 2])"
   ]
  },
  {
   "cell_type": "markdown",
   "metadata": {},
   "source": [
    "### Exercice 6: tracer l'enveloppe convexe\n",
    "Écrire une fonction `coord_env_conv` qui prend en argument une liste d'abscisses et une liste d'ordonnées d'un nuage de points et renvoie deux listes contenant les abscisses et les ordonnées des points de l'enveloppe convexe du nuage."
   ]
  },
  {
   "cell_type": "code",
   "execution_count": null,
   "metadata": {},
   "outputs": [],
   "source": []
  },
  {
   "cell_type": "markdown",
   "metadata": {},
   "source": [
    "Regardons si ça semble fonctionner:"
   ]
  },
  {
   "cell_type": "code",
   "execution_count": null,
   "metadata": {},
   "outputs": [],
   "source": [
    "abs, ord = [1,2,3,4,5,6], [2,1,7,6,3,9]\n",
    "trace(abs, ord)\n",
    "env = enveloppe_convexe(abs, ord)\n",
    "env_abs, env_ord = coord_env_conv(abs, ord, env)\n",
    "polygone(env_abs, env_ord)"
   ]
  },
  {
   "cell_type": "markdown",
   "metadata": {},
   "source": [
    "Sur un exemple plus grand:"
   ]
  },
  {
   "cell_type": "code",
   "execution_count": null,
   "metadata": {},
   "outputs": [],
   "source": [
    "abs, ord = lecture('points1')\n",
    "trace(abs, ord)\n",
    "env = enveloppe_convexe(abs, ord)\n",
    "env_abs, env_ord = coord_env_conv(abs, ord, env)\n",
    "polygone(env_abs, env_ord)"
   ]
  }
 ],
 "metadata": {
  "kernelspec": {
   "display_name": "Python 3",
   "language": "python",
   "name": "python3"
  },
  "language_info": {
   "codemirror_mode": {
    "name": "ipython",
    "version": 3
   },
   "file_extension": ".py",
   "mimetype": "text/x-python",
   "name": "python",
   "nbconvert_exporter": "python",
   "pygments_lexer": "ipython3",
   "version": "3.6.9"
  }
 },
 "nbformat": 4,
 "nbformat_minor": 4
}
