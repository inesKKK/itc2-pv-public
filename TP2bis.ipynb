{
 "cells": [
  {
   "cell_type": "markdown",
   "id": "d59b0f82",
   "metadata": {},
   "source": [
    "# ITC2 - MP/PSI\n",
    "---"
   ]
  },
  {
   "cell_type": "markdown",
   "id": "0637d434",
   "metadata": {},
   "source": [
    "# TP2 : Tables de hachage\n",
    " \n",
    "Il s'agit dans ce TP de constater expérimentalement l'efficacité des\n",
    "tables de hachage pour stocker des ensembles (d'entiers pour\n",
    "simplifier)."
   ]
  },
  {
   "cell_type": "markdown",
   "id": "c5620ec1",
   "metadata": {},
   "source": [
    "# Gestion des collisions par sondage\n",
    "\n",
    "Nous nous intéressons à la gestion des collisions par sondage et nous\n",
    "voulons comparer expérimentalement les longueurs des séquences de sondage en fonction de la fonction de sondage associée. "
   ]
  },
  {
   "cell_type": "markdown",
   "id": "ad991ed6",
   "metadata": {},
   "source": [
    "## Exercice 1 : Une fonction de hachage\n",
    "\n",
    "Dans ce TP, on utilisera toujours la même fonction de hachage `hachage` qui prend en argument un élément et la longueur de la table de hachage et renvoie l'élément modulo le nombre d'alvéoles de la table de hachage. Écrire le code de cette fonction."
   ]
  },
  {
   "cell_type": "code",
   "execution_count": null,
   "id": "ae34ca34",
   "metadata": {},
   "outputs": [],
   "source": []
  },
  {
   "cell_type": "code",
   "execution_count": null,
   "id": "a98527b9",
   "metadata": {},
   "outputs": [],
   "source": [
    "assert(hachage(4323, 34) == 5)"
   ]
  },
  {
   "cell_type": "markdown",
   "id": "254ccedd",
   "metadata": {},
   "source": [
    "## Exercice 2 : Fonctions de sondage\n",
    "Toutes les fonctions ici prendrons trois entiers en argument : l'indice de l'alvéole initialement prévue, l'indice de l'alvéole considérée, et le nombre total d'alvéole.\n",
    "\n",
    "1. On veut que le sondage donne la case suivante par rapport à l'alvéole considérée, en revenant au début de la table de hachage si nécessaire. Écrire une fonction `sondage1` correspondante."
   ]
  },
  {
   "cell_type": "code",
   "execution_count": null,
   "id": "a0a2abc7",
   "metadata": {},
   "outputs": [],
   "source": []
  },
  {
   "cell_type": "markdown",
   "id": "9b5e350d",
   "metadata": {},
   "source": [
    "2. On veut que le sondage fasse un saut de 17 cases (en revenant au début de la table de hachage si nécessaire) à chaque fois. Écrire la fonction `sondage2` correspondante."
   ]
  },
  {
   "cell_type": "code",
   "execution_count": null,
   "id": "fe909088",
   "metadata": {},
   "outputs": [],
   "source": []
  },
  {
   "cell_type": "markdown",
   "id": "3c87d078",
   "metadata": {},
   "source": [
    "3. Notons $N$ le nombre d'alvéoles. On veut associer à chaque entier une permutation des entiers $\\{ 0, \\dots, N-1\\}$ qui est un cycle. Pour ce faire, on va créer une liste contenant ces cycles et associer à l'entier $i$ le cycle de la case $i$ modulo $N$. La fonction `cycle` ci-dessous fournit une liste de cycles."
   ]
  },
  {
   "cell_type": "code",
   "execution_count": null,
   "id": "dab88c6c",
   "metadata": {},
   "outputs": [],
   "source": [
    "import itertools\n",
    "\n",
    "def traduction(C, N):\n",
    "    P = [ -1 ] * N\n",
    "    P[0] = C[0]\n",
    "    for i in range(len(C) - 1):\n",
    "        P[C[i]] = C[i+1]\n",
    "    P[C[-1]] = 0\n",
    "    return P\n",
    "\n",
    "import random\n",
    "\n",
    "def cycles(N, i):\n",
    "    \"\"\"Renvoie la séquence de sondage associée à i si la table de hachage possède N alvéoles\"\"\"\n",
    "    random.seed(17)\n",
    "    les_cycles = []\n",
    "    for _ in range(1000):\n",
    "        liste = random.sample(list(range(1, N)), N-1)\n",
    "        les_cycles.append(traduction(liste, N))\n",
    "    return les_cycles[i%1000]"
   ]
  },
  {
   "cell_type": "markdown",
   "id": "f6a2aadf",
   "metadata": {},
   "source": [
    "Écrire une fonction `sondage3` qui permet d'utiliser la séquence de sondage $i, \\sigma_i(i), \\sigma_i\\circ \\sigma_i(i), \\dots, \\sigma_i\\circ \\dots\\circ\\sigma_i(i),\\dots$ pour une entrée dont la valeur hachée est $i$."
   ]
  },
  {
   "cell_type": "code",
   "execution_count": null,
   "id": "a3ea43f6",
   "metadata": {},
   "outputs": [],
   "source": []
  },
  {
   "cell_type": "markdown",
   "id": "9f75def1",
   "metadata": {},
   "source": [
    "## Exercice 3 : Créer une table de hachage vide"
   ]
  },
  {
   "cell_type": "markdown",
   "id": "1fb1f3ed",
   "metadata": {},
   "source": [
    "Écrire une fonction `nouvelle_table_hachage` qui prend en argument un entier et crée une table de hachage ayant ce nombre d'alvéole et dont chaque alvéole contient `None`."
   ]
  },
  {
   "cell_type": "code",
   "execution_count": null,
   "id": "a04e1084",
   "metadata": {},
   "outputs": [],
   "source": []
  },
  {
   "cell_type": "code",
   "execution_count": null,
   "id": "8dc4b332",
   "metadata": {},
   "outputs": [],
   "source": [
    "H = nouvelle_table_hachage(128)\n",
    "assert(len(H)==128 and H[17]==None)"
   ]
  },
  {
   "cell_type": "markdown",
   "id": "388d3d96",
   "metadata": {},
   "source": [
    "## Interlude : Une fonction comme paramètre d'une autre fonction\n",
    "\n",
    "En python, on peut donner une fonction comme paramètre à une autre fonction.\n",
    "\n",
    "Exemple :"
   ]
  },
  {
   "cell_type": "code",
   "execution_count": null,
   "id": "751a3d83",
   "metadata": {},
   "outputs": [],
   "source": [
    "import math\n",
    "\n",
    "def affichage(f, x):\n",
    "    print('La valeur de la fonction en la variable est :')\n",
    "    print(f(x))\n",
    "    \n",
    "affichage(math.cos, 0)"
   ]
  },
  {
   "cell_type": "markdown",
   "id": "b2407891",
   "metadata": {},
   "source": [
    "## Exercice 4 : Ajouter un élément\n",
    "\n",
    "Écrire une fonction `ajout` qui prend en argument une table de hachage, un entier à ajouter dans la table, une fonction supposée être une fonction de hachage et une fonction supposée être une fonction de sondage (sans rien vérifier dessus) et ajoute l'entier dans la table de hachage, en utilisant une gestion des collisions par sondage selon la fonction fournie. La fonction `ajout` doit renvoyer le nombre d'alvéoles visitées avant d'avoir pu ajouter un élément dans la table (si on ajoute dans l'alvéole d'indice la valeur hachée, alors elle renvoie 1). N'oubliez pas qu'un entier ne peut pas apparaître deux fois dans la table puisqu'il s'agit ici d'encoder un ensemble. Pour simplifier, on suppose qu'on est sûr qu'il reste de la place dans la table de hachage."
   ]
  },
  {
   "cell_type": "code",
   "execution_count": null,
   "id": "3919ef72",
   "metadata": {},
   "outputs": [],
   "source": []
  },
  {
   "cell_type": "code",
   "execution_count": null,
   "id": "ab0f3568",
   "metadata": {},
   "outputs": [],
   "source": [
    "H = nouvelle_table_hachage(128)\n",
    "n1 = ajout(H, 145, hachage, sondage1)\n",
    "n2 = ajout(H, 145, hachage, sondage1)\n",
    "n3 = ajout(H, 17, hachage, sondage1)\n",
    "assert(H[0] == None and H[17] == 145 and H[18] == 17)\n",
    "assert(n1 == 1)\n",
    "assert(n2 == 1)\n",
    "assert(n3 == 2)"
   ]
  },
  {
   "cell_type": "code",
   "execution_count": null,
   "id": "21ce03b6",
   "metadata": {},
   "outputs": [],
   "source": [
    "H = nouvelle_table_hachage(128)\n",
    "n1 = ajout(H, 145, hachage, sondage2)\n",
    "n2 = ajout(H, 145, hachage, sondage2)\n",
    "n3 = ajout(H, 17, hachage, sondage2)\n",
    "assert(H[0] == None and H[17] == 145 and H[34] == 17)\n",
    "assert(n1 == 1)\n",
    "assert(n2 == 1)\n",
    "assert(n3 == 2)"
   ]
  },
  {
   "cell_type": "code",
   "execution_count": null,
   "id": "626e4b15",
   "metadata": {},
   "outputs": [],
   "source": [
    "H = nouvelle_table_hachage(128)\n",
    "n1 = ajout(H, 17, hachage, sondage3)\n",
    "n2 = ajout(H, 17+128, hachage, sondage3)\n",
    "n3 = ajout(H, 17+7*128, hachage, sondage3)\n",
    "assert(H[0] == None and H[17] == 17 and H[111] == 913)\n",
    "assert(n1 == 1)\n",
    "assert(n2 == 2)\n",
    "assert(n3 == 3)"
   ]
  },
  {
   "cell_type": "markdown",
   "id": "779e9744",
   "metadata": {},
   "source": [
    "## Exercice 4 : Statistiques de répartition\n",
    "\n",
    "On a dit que le temps d'accès à un élément dans une table de hachage dont les collisions sont gérées par sondage dépend essentiellement de la longueur de la séquence de sondage à suivre.\n",
    "\n",
    "On va donc ici faire des statistiques sur le nombre de sondages à faire pour insérer un élément.\n",
    "\n",
    "Écrire une fonction `remplir` qui prend en argument un entier `N` une fonction de sondage et :\n",
    "\n",
    "* crée une nouvelle table de hachage de taille `N`\n",
    "* ajoute les entiers 0 à `N-1` à la table dans un ordre aléatoire (utiliser `random.sample`), en utilisant la fonction `hachage` et la fonction de sondage fournie en argument\n",
    "* renvoie le nombre moyen de sondages effectués"
   ]
  },
  {
   "cell_type": "code",
   "execution_count": null,
   "id": "ac6c8fd4",
   "metadata": {},
   "outputs": [],
   "source": []
  },
  {
   "cell_type": "markdown",
   "id": "dd385143",
   "metadata": {},
   "source": [
    "Comparons maintenant le nombre moyen de sondages effectués (à noter que l'exécution pour `sondage3` est plus lente parce que la fonction est générique et pas du tout optimisée pour ce type de sondage) :"
   ]
  },
  {
   "cell_type": "code",
   "execution_count": null,
   "id": "ae25d487",
   "metadata": {},
   "outputs": [],
   "source": [
    "remplir(128, sondage1)"
   ]
  },
  {
   "cell_type": "code",
   "execution_count": null,
   "id": "faa562b4",
   "metadata": {},
   "outputs": [],
   "source": [
    "remplir(128, sondage2)"
   ]
  },
  {
   "cell_type": "code",
   "execution_count": null,
   "id": "daa46736",
   "metadata": {},
   "outputs": [],
   "source": [
    "remplir(128, sondage3)"
   ]
  }
 ],
 "metadata": {
  "kernelspec": {
   "display_name": "Python 3 (ipykernel)",
   "language": "python",
   "name": "python3"
  },
  "language_info": {
   "codemirror_mode": {
    "name": "ipython",
    "version": 3
   },
   "file_extension": ".py",
   "mimetype": "text/x-python",
   "name": "python",
   "nbconvert_exporter": "python",
   "pygments_lexer": "ipython3",
   "version": "3.10.12"
  }
 },
 "nbformat": 4,
 "nbformat_minor": 5
}
