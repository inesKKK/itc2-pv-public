{
 "cells": [
  {
   "cell_type": "markdown",
   "metadata": {},
   "source": [
    "# TP18 : Couplages dans un graphe\n",
    "Sujet adapté d'un sujet de Marie Durand, Lycée Champollion, Grenoble\n",
    "\n",
    "Un graphe $G = (V, E)$ est dit *biparti* si on peut partitionner son ensemble de\n",
    "sommets $V$ en deux sous-ensembles $A$ et $B$ distincts, non vides, de sorte que\n",
    "toute arête ait une extrémité dans $A$ et une extrémité dans $B$. Si les\n",
    "ensembles $A$ et $B$ ont le même cardinal, on dit qu'il s'agit d'un graphe\n",
    "biparti *équilibré*. Dans tout le sujet, on ne considère que des graphes\n",
    "bipartis équilibrés. On note $n$ le cardinal commun aux ensembles $A$ et $B$; la\n",
    "taille du graphe est donc égale à $2n$.\n",
    "\n",
    "On suppose que l'on a toujours $n \\geq 1$. Les sommets de $A$ sont numérotés de\n",
    "$0$ à $n - 1$ et nommés $0_A$, $1_A$, $2_A$, ..., $(n - 1)_A$; les sommets de\n",
    "$B$ sont numérotés de\n",
    "$0$ à $n - 1$ et nommés $0_B$, $1_B$, $2_B$, ..., $(n - 1)_B$.\n",
    "Une arête de $G$ est toujours écrite en mettant d'abord l'extrémité qui est dans\n",
    "$A$ puis celle qui est dans $B$.\n",
    "\n",
    "On représente les graphes bipartis équilibrés par des schémas comme on peut le\n",
    "voir dans la figure ci-dessous, avec le graphe $G_0$ à gauche, en représentant les\n",
    "sommets de $A$ à gauche et les sommets de $B$ à droite. \n",
    "\n",
    "![](img/graphes.png)\n",
    "\n",
    "On dit que deux arêtes d'un graphe $G$ sont *incidentes* si elles ont une\n",
    "extrémité en commun. On appelle *couplage* dans $G$ un ensemble d'arêtes de $G$\n",
    "deux à deux non incidentes.\n",
    "\n",
    "## Généralités\n",
    "La structure d'un graphe biparti équilibré à $2n$ sommets permet de représenter un tel graphe par une matrice carrée $n\\times n$ avec en ligne les indices de $0$ à $n-1$ des sommets del'ensemble $A$ et en colonne les indices de $0$ à $n-1$ des sommets de l'ensemble $B$. Un coefficient `True` signifiant la présence d'une arête et un coefficient `False` son absence.\n",
    "\n",
    "**Attention :** cette représentation n'est pas une représentation classique, elle est introduite pour cet énoncé.\n",
    "\n",
    "### Question 1\n",
    "Déterminer la matrice `G0` représentant le graphe $G_0$."
   ]
  },
  {
   "cell_type": "code",
   "execution_count": null,
   "metadata": {},
   "outputs": [],
   "source": []
  },
  {
   "cell_type": "code",
   "execution_count": null,
   "metadata": {},
   "outputs": [],
   "source": [
    "assert(G0[2][3] == True)\n",
    "assert(G0[3][2] == False)"
   ]
  },
  {
   "cell_type": "markdown",
   "metadata": {},
   "source": [
    "### Question 2 [sur feuille]\n",
    "Donner un couplage de cardinal 3 dans $G_0$."
   ]
  },
  {
   "cell_type": "markdown",
   "metadata": {},
   "source": [
    "### Question 3 [sur feuille]\n",
    "Indiquer s'il existe dans $G_0$ un couplage de cardinal $4$. Justifier la réponse.\n",
    "\n",
    "Un couplage est représenté par un tableau d'entiers indexé de $0$ à $n - 1$. Soit $i$ vérifiant $0 \\leq i \\leq n - 1$; si le sommet $i_A$ est couplé avec le sommet $j_B$, la case d'indice $i$ contient la valeur $j$; si le sommet $i_A$ n'est pas couplé, la case d'indice $i$ contient une valeur égale à $-1$.\n",
    "\n",
    "### Question 4 [sur feuille]\n",
    "Quel tableau représente le couplage de cardinal 3 donné en réponse à la question 2 ?\n",
    "\n",
    "### Question 5 [code + feuille]\n",
    "Écrire une fonction `verifie(G, C)` qui, étant donné le graphe $G$ représenté par une matrice `G`, renvoie `True` si le tableau `C` représente un couplage $C$ dans $G$, `False` sinon. Justifier rapidement la complexité de `verifie`."
   ]
  },
  {
   "cell_type": "code",
   "execution_count": null,
   "metadata": {},
   "outputs": [],
   "source": []
  },
  {
   "cell_type": "code",
   "execution_count": null,
   "metadata": {},
   "outputs": [],
   "source": [
    "assert(verifie(G0, [0, -1, 1, 3]) == True)\n",
    "assert(verifie(G0, [0, 3, -1, -1]) == True)\n",
    "assert(verifie(G0, [0, 1, -1, 3]) == False)\n",
    "assert(verifie(G0, [0, 3, 1, 0]) == False)"
   ]
  },
  {
   "cell_type": "markdown",
   "metadata": {},
   "source": [
    "### Question 6 [code + feuille]\n",
    "Écrire en Python une fonction `cardinal(C)` qui, étant donné un couplage `C`, renvoie le cardinal de ce couplage.\n",
    "Justifier rapidement la complexité de `cardinal`."
   ]
  },
  {
   "cell_type": "code",
   "execution_count": null,
   "metadata": {},
   "outputs": [],
   "source": []
  },
  {
   "cell_type": "code",
   "execution_count": null,
   "metadata": {},
   "outputs": [],
   "source": [
    "assert(cardinal([0, -1, 1, 3]) == 3)\n",
    "assert(cardinal([-1, -1, -1, -1]) == 0)"
   ]
  },
  {
   "cell_type": "markdown",
   "metadata": {},
   "source": [
    "## Un algorithme pour déterminer un couplage maximal\n",
    "On dit qu'un couplage $C$ dans un graphe $G$ est *maximal* si toute arête de $G$ n'appartenant pas à $C$ est incidente à au moins une arête de $C$.  Un couplage maximal de $G$ n'est pas forcément de cardinal maximum parmi les\n",
    "couplages de $G$.\n",
    "\n",
    "### Question 7 [sur feuille]\n",
    "Sur le graphe $G_0$, donner un couplage maximal de cardinal 2.\n",
    "\n",
    "On cherche à concevoir un algorithme qui détermine un couplage maximal dans un graphe biparti équilibré $G$.\n",
    "\n",
    "\n",
    "**Algorithme Approché**\n",
    "* on commence avec un couplage vide $C$;\n",
    "* tant que $G$ possède au moins une arête :\n",
    "    * on choisit une arête $a$ de $G$ dont la somme des degrés des extrémités soit minimum;\n",
    "    * on ajoute l'arête $a$ au couplage $C$;\n",
    "    * on retire de $G$ l'arête $a$ et toutes les arêtes incidentes à $a$.\n",
    "* on renvoie $C$\n",
    "\n",
    "On admettra que le résultat est, par construction, un couplage maximal.\n",
    "\n",
    "### Question 8 [sur feuille]\n",
    "Appliquer l'algorithme au graphe $G_0$."
   ]
  },
  {
   "cell_type": "markdown",
   "metadata": {},
   "source": [
    "## Étude du graphe $G_1$\n",
    "On considère par la suite le graphe biparti équilibré $G_1$ dont le cardinal des ensembles $A$ et $B$ est $6$. Ce graphe est  représenté à droite sur la figure 1.\n",
    "\n",
    "### Question 9 [sur feuille]\n",
    "On applique l'algorithme au graphe $G_1$. Déterminer la première arête $a_1$ choisie; tracer le graphe obtenu après suppression de $a_1$ et des arêtes incidentes à $a_1$. Montrer que le couplage obtenu par cet\n",
    "algorithme est de cardinal au plus $5$ et indiquer s'il est de cardinal maximum parmi les couplages de $G_1$.\n",
    "\n",
    "## Représentation d'une arête\n",
    "On représentera en `python` une arête par un couple d'entiers représentant les numéros de ces deux extrémités.\n",
    "\n",
    "### Question 10\n",
    "1. Écrire une fonction `degre_A(G, i)` qui renvoie le degré du sommet $i_A$ du graphe $G$."
   ]
  },
  {
   "cell_type": "code",
   "execution_count": null,
   "metadata": {},
   "outputs": [],
   "source": []
  },
  {
   "cell_type": "code",
   "execution_count": null,
   "metadata": {},
   "outputs": [],
   "source": [
    "assert(degre_A(G0, 0) == 3)\n",
    "assert(degre_A(G0, 1) == 1)\n",
    "assert(degre_A(G0, 2) == 4)\n",
    "assert(degre_A(G0, 3) == 1)"
   ]
  },
  {
   "cell_type": "markdown",
   "metadata": {},
   "source": [
    "2. Écrire une fonction `degre_B(G, i)` qui renvoie le degré du sommet $i_G$ du graphe $G$."
   ]
  },
  {
   "cell_type": "code",
   "execution_count": null,
   "metadata": {},
   "outputs": [],
   "source": []
  },
  {
   "cell_type": "code",
   "execution_count": null,
   "metadata": {},
   "outputs": [],
   "source": [
    "assert(degre_B(G0, 0) == 2)\n",
    "assert(degre_B(G0, 1) == 2)\n",
    "assert(degre_B(G0, 2) == 2)\n",
    "assert(degre_B(G0, 3) == 3)"
   ]
  },
  {
   "cell_type": "markdown",
   "metadata": {},
   "source": [
    "3. Écrire une fonction `arete_min(G)` qui détermine une arête dont la somme des degrés des extrémités est minimale dans un graphe biparti équilibré $G$ à $n$ sommets représenté par une matrice `G` de taille $n \\times n$.\n",
    "La fonction renvoie `None` si le graphe ne possède pas d'arêtes. Sinon la fonction retourne `arete` où `arete` est la représentation d'une arête. Indiquer la complexité de la fonction `arete_min(G)`."
   ]
  },
  {
   "cell_type": "code",
   "execution_count": null,
   "metadata": {},
   "outputs": [],
   "source": []
  },
  {
   "cell_type": "code",
   "execution_count": null,
   "metadata": {},
   "outputs": [],
   "source": [
    "assert(arete_min(G0) == (1,3))"
   ]
  },
  {
   "cell_type": "markdown",
   "metadata": {},
   "source": [
    "### Question 11\n",
    "Écrire une fonction `supprimer_arete(G, a)` qui supprime d'un graphe $G$ représenté par une matrice `G` une arête `a` représentée par un couple d'entiers, si elle existe, et toutes les arêtes incidentes à `a`. Indiquer la complexité de la fonction `supprimer_arete`."
   ]
  },
  {
   "cell_type": "code",
   "execution_count": null,
   "metadata": {},
   "outputs": [],
   "source": []
  },
  {
   "cell_type": "code",
   "execution_count": null,
   "metadata": {},
   "outputs": [],
   "source": [
    "H = [ [True, True, True, False],\n",
    "     [False, False, False, True],\n",
    "     [True, True, True, True], \n",
    "     [False, False, False, True]]\n",
    "supprimer_arete(H, (1, 3))\n",
    "assert(H == [[True, True, True, False],\n",
    " [False, False, False, False],\n",
    " [True, True, True, False],\n",
    " [False, False, False, False]])\n",
    "supprimer_arete(H, (2, 3))\n",
    "assert(H == [[True, True, True, False],\n",
    " [False, False, False, False],\n",
    " [True, True, True, False],\n",
    " [False, False, False, False]])"
   ]
  },
  {
   "cell_type": "markdown",
   "metadata": {},
   "source": [
    "### Question 12\n",
    "Écrire une fonction `copier(G)` qui renvoie une copie profonde d'un graphe $G$ représenté par une matrice `G`."
   ]
  },
  {
   "cell_type": "code",
   "execution_count": null,
   "metadata": {},
   "outputs": [],
   "source": []
  },
  {
   "cell_type": "code",
   "execution_count": null,
   "metadata": {},
   "outputs": [],
   "source": [
    "H0 = copier(G0)\n",
    "assert(id(H0) != id(G0))\n",
    "for i in range(len(G0)):\n",
    "    for j in range(len(G0)):\n",
    "        assert(H0[i][j] == G0[i][j])"
   ]
  },
  {
   "cell_type": "markdown",
   "metadata": {},
   "source": [
    "### Question 13\n",
    "Écrire une fonction `algo_approche(G)` qui, à partir d'une matrice `G` codant un graphe biparti équilibré $G$, applique l'algorithme à partir d'une copie de $G$ et renvoie un tableau codant le couplage obtenu.\n",
    "Indiquer la complexité de la fonction `algo_approche`."
   ]
  },
  {
   "cell_type": "code",
   "execution_count": null,
   "metadata": {},
   "outputs": [],
   "source": []
  },
  {
   "cell_type": "code",
   "execution_count": null,
   "metadata": {},
   "outputs": [],
   "source": [
    "assert(algo_approche(G0) == [0, 3, 1, -1])\n",
    "assert(algo_approche(G0) == [0, 3, 1, -1])"
   ]
  },
  {
   "cell_type": "markdown",
   "metadata": {},
   "source": [
    "## Recherche exhaustive d'un couplage de cardinal maximum\n",
    "\n",
    "De la même manière que dans la partie précédente, on représentera en `python` une arête par  un couple d'entiers représentant les numéros de ces deux extrémités.\n",
    "\n",
    "### Rappel\n",
    "Un graphe biparti équilibré $G$ possédant $2n$ sommets est représenté par une matrice de taille $n \\times n$ avec en ligne les éléments de $0$ à $n-1$ de l'ensemble $A$ et en colonne les éléments de $0$ à $n-1$ de l'ensemble $B$.\n",
    "\n",
    "### Question 14\n",
    "Soit $G$ un graphe biparti équilibré représenté par une matrice `G` de taille $n \\times n$. Écrire une fonction `une_arete(G)` qui recherche une arête quelconque de $G$. Si $G$ possède au moins une arête, la fonction renvoie la première arête rencontrée, sinon la fonction renvoie `None`. Donner la complexité de la fonction `une_arete`."
   ]
  },
  {
   "cell_type": "code",
   "execution_count": null,
   "metadata": {},
   "outputs": [],
   "source": []
  },
  {
   "cell_type": "code",
   "execution_count": null,
   "metadata": {},
   "outputs": [],
   "source": [
    "assert(une_arete(G0) != None)"
   ]
  },
  {
   "cell_type": "markdown",
   "metadata": {},
   "source": [
    "On cherche à établir un algorithme récursif, nommé `meilleur_couplage` qui permette de déterminer un couplage de cardinal maximum dans un graphe biparti équilibré: \n",
    "\n",
    "Si le graphe courant ne contient aucune arête, le cardinal maximum d'un couplage est $0$ et aucun sommet n'est couplé. Dans le cas contraire, l'algorithme considère une arête quelconque `a` du graphe courant et recherche successivement :\n",
    "* un couplage de cardinal maximum parmi les couplages du graphe courant ne contenant pas `a`\n",
    "* un couplage de cardinal maximum parmi les couplages du graphe courant contenant `a`\n",
    "\n",
    "L'algorithme déduit alors un couplage de cardinal maximum.\n",
    "\n",
    "### Question 15\n",
    "Écrire une fonction récursive `meilleur_couplage(G)` qui renvoie un tableau codant un couplage de cardinal maximum dans $G$ en utilisant l'algorithme ci-dessus. Donner la complexité de `meilleur_couplage`."
   ]
  },
  {
   "cell_type": "code",
   "execution_count": null,
   "metadata": {},
   "outputs": [],
   "source": []
  },
  {
   "cell_type": "code",
   "execution_count": null,
   "metadata": {},
   "outputs": [],
   "source": [
    "assert(meilleur_couplage(G0) == [0, 3, 1, -1])"
   ]
  }
 ],
 "metadata": {
  "kernelspec": {
   "display_name": "Python 3",
   "language": "python",
   "name": "python3"
  },
  "language_info": {
   "codemirror_mode": {
    "name": "ipython",
    "version": 3
   },
   "file_extension": ".py",
   "mimetype": "text/x-python",
   "name": "python",
   "nbconvert_exporter": "python",
   "pygments_lexer": "ipython3",
   "version": "3.6.9"
  }
 },
 "nbformat": 4,
 "nbformat_minor": 4
}
