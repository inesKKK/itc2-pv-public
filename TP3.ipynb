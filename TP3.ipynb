{
 "cells": [
  {
   "cell_type": "markdown",
   "metadata": {},
   "source": [
    "# TP3 : Programmation dynamique\n",
    "\n",
    "_Note pour les PSI: attendez d'avoir eu le cours de samedi 24/09 qui va vous remettre d'aplomb avec les MP._\n",
    "\n",
    "Il s'agit dans ce TP de résoudre un problème classique en programmation dynamique.\n",
    "\n",
    "On dispose d'un sac à dos qui supporte un poids maximal $P$. On a $n$ paquets numérotés de 0 à $n-1$\n",
    "* dont les poids respectifs sont des entiers notés $p_0,\\dots ,p_{n-1}$,\n",
    "* dont les valeurs respectives sont des entiers notés $v_0,\\dots ,v_{n-1}$.\n",
    "\n",
    "On ne peut faire qu'un voyage et on souhaite connaître la valeur maximale qu'on peut transporter sans dépasser le poids maximal autorisé. (Un objet donné n'apparaît qu'en un exemplaire.)\n",
    "\n",
    "On note $V_{p, k}$ la valeur maximale transportable si le poids maximal autorisé est $p$ et l'indice maximal autorisé est $k$.\n",
    "\n",
    "**Question 1** Donner une relation de récurrence qui permet de définir $V_{(p,k)}$ en fonction des réponses au même probème pour des valeurs inférieures de paramètres.\n",
    "\n",
    "**Question 2** Donner les cas de bases correspondants à la relation de la question précédente.\n",
    "\n",
    "**Question 3** Écrire une fonction `valeur_max` qui prend en argument une liste de poids, une liste de valeurs et un poids maximal autorisé et donne la valeur maximale pouvant être atteinte. Cette fonction doit être écrite en utilisant de la programmation dynamique."
   ]
  },
  {
   "cell_type": "code",
   "execution_count": null,
   "metadata": {},
   "outputs": [],
   "source": [
    "# Écrire votre code ici\n",
    "raise NotImplementedError # effacer cette ligne une fois le code écrit"
   ]
  },
  {
   "cell_type": "code",
   "execution_count": null,
   "metadata": {},
   "outputs": [],
   "source": [
    "assert(valeur_max([1], [1], 1) == 1)\n",
    "assert(valeur_max([1], [1], 0) == 0)\n",
    "assert(valeur_max([1], [1], 2) == 1)\n",
    "assert(valeur_max([1,2,3], [3,2,1], 6) == 6)\n",
    "assert(valeur_max([32,2,17,85,42], [5,15,8,12,5], 107) == 40)"
   ]
  }
 ],
 "metadata": {
  "kernelspec": {
   "display_name": "Python 3",
   "language": "python",
   "name": "python3"
  },
  "language_info": {
   "codemirror_mode": {
    "name": "ipython",
    "version": 3
   },
   "file_extension": ".py",
   "mimetype": "text/x-python",
   "name": "python",
   "nbconvert_exporter": "python",
   "pygments_lexer": "ipython3",
   "version": "3.6.9"
  }
 },
 "nbformat": 4,
 "nbformat_minor": 4
}
