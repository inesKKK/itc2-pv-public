{
 "cells": [
  {
   "cell_type": "markdown",
   "metadata": {},
   "source": [
    "# TP10 : Matrices de confusion\n",
    "\n",
    "Dans le TP précédent, nous avons mis en œuvre une partie de l'algorithme d'apprentissage supervisé des $k$-plus proches voisins vu en cours, dans le but de classer des images contenant des chiffres. Nous avions fixé une valeur de $k$.\n",
    "\n",
    "Nous continuons à travailler sur la même base d'images, mais le but cette semaine est de comparer l'efficacité de plusieurs valeurs de $k$ pour en trouver une bonne.\n",
    "\n",
    "Pour rappel, l'idée est de fabriquer une matrice de confusion qui donne le nombre d'images mal classifiées.\n",
    "\n",
    "Les algorithmes mis en place la semaine dernières étaient assez lents, il n'est pas question de classifier les 10000 images de test avec. Nous allons tenter de les améliorer.\n",
    "\n",
    "Je reprends le code de la semaine dernière pour mettre les images en mémoire (pour rappel a été largement emprunté au site [https://www.kaggle.com/code/hojjatk/read-mnist-dataset/notebook](https://www.kaggle.com/code/hojjatk/read-mnist-dataset/notebook), et légèrement modifié)."
   ]
  },
  {
   "cell_type": "code",
   "execution_count": null,
   "metadata": {},
   "outputs": [],
   "source": [
    "import numpy as np # linear algebra\n",
    "import struct\n",
    "from array import array\n",
    "import gzip\n",
    "\n",
    "#\n",
    "# MNIST Data Loader Class\n",
    "#\n",
    "class MnistDataloader(object):\n",
    "    def __init__(self, training_images_filepath,training_labels_filepath,\n",
    "                 test_images_filepath, test_labels_filepath):\n",
    "        self.training_images_filepath = training_images_filepath\n",
    "        self.training_labels_filepath = training_labels_filepath\n",
    "        self.test_images_filepath = test_images_filepath\n",
    "        self.test_labels_filepath = test_labels_filepath\n",
    "    \n",
    "    def read_images_labels(self, images_filepath, labels_filepath):        \n",
    "        labels = []\n",
    "        with gzip.open(labels_filepath, 'rb') as file:\n",
    "            magic, size = struct.unpack(\">II\", file.read(8))\n",
    "            if magic != 2049:\n",
    "                raise ValueError('Magic number mismatch, expected 2049, got {}'.format(magic))\n",
    "            labels = array(\"B\", file.read())        \n",
    "        \n",
    "        with gzip.open(images_filepath, 'rb') as file:\n",
    "            magic, size, rows, cols = struct.unpack(\">IIII\", file.read(16))\n",
    "            if magic != 2051:\n",
    "                raise ValueError('Magic number mismatch, expected 2051, got {}'.format(magic))\n",
    "            image_data = array('B', file.read())\n",
    "        images = []\n",
    "        for i in range(size):\n",
    "            images.append([0] * rows * cols)\n",
    "        for i in range(size):\n",
    "            img = np.array(image_data[i * rows * cols:(i + 1) * rows * cols])\n",
    "            img = img.reshape(28, 28)\n",
    "            images[i][:] = img.tolist()\n",
    "        return images, labels\n",
    "            \n",
    "    def load_data(self):\n",
    "        x_train, y_train = self.read_images_labels(self.training_images_filepath, self.training_labels_filepath)\n",
    "        x_test, y_test = self.read_images_labels(self.test_images_filepath, self.test_labels_filepath)\n",
    "        return (x_train, y_train),(x_test, y_test)"
   ]
  },
  {
   "cell_type": "markdown",
   "metadata": {},
   "source": [
    "Le code qui suit utilise la classe précédente pour récupérer les images (quelques secondes d'exécution, soyez patients)."
   ]
  },
  {
   "cell_type": "code",
   "execution_count": null,
   "metadata": {},
   "outputs": [],
   "source": [
    "training_images_filepath = 'train-images-idx3-ubyte.gz'\n",
    "training_labels_filepath = 'train-labels-idx1-ubyte.gz'\n",
    "test_images_filepath = 't10k-images-idx3-ubyte.gz'\n",
    "test_labels_filepath = 't10k-labels-idx1-ubyte.gz'\n",
    "\n",
    "#\n",
    "# Load MINST dataset\n",
    "#\n",
    "mnist_dataloader = MnistDataloader(training_images_filepath, training_labels_filepath,\n",
    "                                   test_images_filepath, test_labels_filepath)\n",
    "(img_entrainement, cl_entrainement), (img_test, cl_test) = mnist_dataloader.load_data()"
   ]
  },
  {
   "cell_type": "markdown",
   "metadata": {},
   "source": [
    "On va tester certaines fonctions avec des affichages, on reprend donc la fonction d'affichage du TP précédent:"
   ]
  },
  {
   "cell_type": "code",
   "execution_count": null,
   "metadata": {},
   "outputs": [],
   "source": [
    "from PIL import Image\n",
    "from IPython.display import display\n",
    "\n",
    "def affiche_image(img):\n",
    "    \"\"\"img : image sous forme d'une liste de listes de niveaux de gris\n",
    "    affichage de l'image\"\"\"\n",
    "    im = Image.new(size=(len(img[0]), len(img)), mode='L')\n",
    "    for i in range(len(img)):\n",
    "        for j in range(len(img[0])):\n",
    "            im.putpixel((j, i), img[i][j])\n",
    "    display(im)"
   ]
  },
  {
   "cell_type": "markdown",
   "metadata": {},
   "source": [
    "On aura besoin de l'algorithme d'insertion écrit dans le TP précédent:"
   ]
  },
  {
   "cell_type": "code",
   "execution_count": null,
   "metadata": {},
   "outputs": [],
   "source": [
    "def inserer(elt, liste):\n",
    "    \"\"\"elt: couple (image, distance) à insérer dans liste\n",
    "    pré-condition : la distance de elt est < à la dist de liste[-1] \n",
    "    le résultat doit être décroissant sur les distances et conserver sa longueur\"\"\"\n",
    "    img, d = elt\n",
    "    assert(d < liste[-1][1])\n",
    "    i = len(liste) - 1\n",
    "    liste[i] = (img, d)\n",
    "    while i > 0 and liste[i][1] < liste[i-1][1]:\n",
    "        liste[i-1], liste[i] = liste[i], liste[i-1]\n",
    "        i = i-1"
   ]
  },
  {
   "cell_type": "markdown",
   "metadata": {},
   "source": [
    "### Exercice 1 : Transformer les images pour accélérer les calculs\n",
    "Tant que $k$ est petit, l'étape qui prend beaucoup de temps est le calcul de la distance euclidienne entre deux images. On va pré-traiter les images pour essayer d'accélérer les choses.\n",
    "\n",
    "Première étape: on enlève les niveaux de gris et on ne garde que des pixels noirs et des pixels blancs.\n",
    "Écrire une fonction `binaire` qui prend en argument une image `img` sous la forme d'une liste de listes de niveau de gris et un entier `seuil` et rennvoie une image aux mêmes dimensions dont la coordonnée $(i, j)$ vaut 0 si la valeur de la case $(i, j)$ de `img` est strictement inférieure à `seuil` et 255 sinon."
   ]
  },
  {
   "cell_type": "code",
   "execution_count": null,
   "metadata": {},
   "outputs": [],
   "source": []
  },
  {
   "cell_type": "markdown",
   "metadata": {},
   "source": [
    "Comparer les deux affichages suivants pour savoir si votre fonction est correcte:"
   ]
  },
  {
   "cell_type": "code",
   "execution_count": null,
   "metadata": {},
   "outputs": [],
   "source": [
    "affiche_image(img_entrainement[257])\n",
    "affiche_image(binaire(img_entrainement[257], 100))"
   ]
  },
  {
   "cell_type": "markdown",
   "metadata": {},
   "source": [
    "Créez maintenant, à partir des listes `img_entrainement` et `img_test` deux listes d'images correspondantes avec des pixels tous noirs ou blancs:"
   ]
  },
  {
   "cell_type": "code",
   "execution_count": null,
   "metadata": {},
   "outputs": [],
   "source": []
  },
  {
   "cell_type": "markdown",
   "metadata": {},
   "source": [
    "Petite vérification :"
   ]
  },
  {
   "cell_type": "code",
   "execution_count": null,
   "metadata": {},
   "outputs": [],
   "source": [
    "affiche_image(img_entrainement[257])\n",
    "affiche_image(img_bin_entrainement[257])"
   ]
  },
  {
   "cell_type": "markdown",
   "metadata": {},
   "source": [
    "### Exercice 2 : Accélérer le calcul de la distance entre deux images\n",
    "Pour diminuer le nombre d'opérations de ce calcul, nous allons utiliser deux idées:\n",
    "\n",
    "1. Si on sait déjà qu'on cherche une distance inférieure à une valeur donnée (par exemple la distance au $k$-ème plus proche voisin pour l'instant), ce n'est pas la peine de continuer le calcul si cette valeur est atteinte,\n",
    "2. Les traits étant continus, on ne va regarder qu'une ligne sur 5 dans les images.\n",
    "\n",
    "Écrire une fonction `distance_images` qui prend en argument deux images données sous la forme de listes de listes de noirs et de blanc et une nombre `d` et renvoie le nombres de pixels différents entre les deux images s'il est inférieur à `d` et `math.inf` sinon, en ne regardant qu'une ligne sur 5 et en essayant de faire le moins de calculs possibles."
   ]
  },
  {
   "cell_type": "code",
   "execution_count": null,
   "metadata": {},
   "outputs": [],
   "source": []
  },
  {
   "cell_type": "markdown",
   "metadata": {},
   "source": [
    "### Rappel TP précédent : trouver les $k$ plus proches voisins\n",
    "\n",
    "Je remets les fonctions que vous deviez écrire dans le TP précédent, en incorporant la modification dûe au fait qu'on ne calcule pas la distance dès qu'on est convaincu que l'élément ne fait pas partie des $k$ plus proches voisins."
   ]
  },
  {
   "cell_type": "code",
   "execution_count": null,
   "metadata": {},
   "outputs": [],
   "source": [
    "def k_plus_proches_voisins(im, L, k, dist, insertion):\n",
    "    \"\"\"im: image (liste de listes de noir ou blanc)\n",
    "    L: liste d'images (noir ou blanc)\n",
    "    k: entier (k < len(L))\n",
    "    dist: fonction de calcul de distance\n",
    "    insertion: fonction d'insertion\"\"\"\n",
    "    voisins = [(None,math.inf)] * k\n",
    "    for i in range(len(L)):\n",
    "        orig = L[i]\n",
    "        d = dist(im, orig, voisins[-1][1])\n",
    "        if d < voisins[-1][1]:\n",
    "            insertion((i, d), voisins)\n",
    "    return voisins"
   ]
  },
  {
   "cell_type": "code",
   "execution_count": null,
   "metadata": {},
   "outputs": [],
   "source": [
    "def classe_devinee(voisins, classes):\n",
    "    \"\"\"liste de voisins (numero, distance) et liste de classes\"\"\"\n",
    "    classes_voisins = [ classes[n] for (n,_) in voisins ]\n",
    "    cpt = {i:0 for i in range(10)}\n",
    "    for cl in classes_voisins:\n",
    "        cpt[cl] += 1\n",
    "    classe = 0\n",
    "    for cl in cpt:\n",
    "        if cpt[cl] > cpt[classe]:\n",
    "            classe = cl\n",
    "    return classe"
   ]
  },
  {
   "cell_type": "markdown",
   "metadata": {},
   "source": [
    "### Exercice 3 : Calcul de la matrice de confusion\n",
    "Il s'agit maintenant d'ćrire une fonction qui calcule la matrice de confusion pour un entier $k$ donné.\n",
    "\n",
    "Le python n'étant pas un langage qui s'exécute très rapidement, nous allons nous contenter de faire des tests avec `img_bin_test[:100]`.\n",
    "\n",
    "Écrire une fonction qui prend en argument un entier $k$ et produit la matrice de confusion pour le calcul des classes avec les $k$ plus proches voisins des éléments de `img_bin_test[:200]`."
   ]
  },
  {
   "cell_type": "code",
   "execution_count": null,
   "metadata": {},
   "outputs": [],
   "source": [
    "matrice5 = matrice_de_confusion(5)"
   ]
  },
  {
   "cell_type": "code",
   "execution_count": null,
   "metadata": {},
   "outputs": [],
   "source": [
    "assert(matrice5[0][0] == 17)\n",
    "assert(matrice5[5][3] == 3)"
   ]
  },
  {
   "cell_type": "markdown",
   "metadata": {},
   "source": [
    "### Exercice 4 : Calcul du taux d'échec\n",
    "Écrire une fonction `taux_echec` qui prend en argument une matrice supposée être une matrice de confusion et renvoie son taux d'échec."
   ]
  },
  {
   "cell_type": "code",
   "execution_count": null,
   "metadata": {},
   "outputs": [],
   "source": []
  },
  {
   "cell_type": "markdown",
   "metadata": {},
   "source": [
    "Comparez les taux d'échec pour $k=3$, $k=6$ et $k=20$. (Attention: on a réduit les temps de calcul, mais ça reste très long car on ne dispose pas des bons outils pour ce qu'on fait...)"
   ]
  },
  {
   "cell_type": "code",
   "execution_count": null,
   "metadata": {},
   "outputs": [],
   "source": [
    "matrice3 = matrice_de_confusion(3)"
   ]
  },
  {
   "cell_type": "code",
   "execution_count": null,
   "metadata": {
    "scrolled": false
   },
   "outputs": [],
   "source": [
    "taux_echec(matrice3)"
   ]
  },
  {
   "cell_type": "code",
   "execution_count": null,
   "metadata": {},
   "outputs": [],
   "source": [
    "matrice3"
   ]
  },
  {
   "cell_type": "code",
   "execution_count": null,
   "metadata": {},
   "outputs": [],
   "source": [
    "matrice6 = matrice_de_confusion(6)"
   ]
  },
  {
   "cell_type": "code",
   "execution_count": null,
   "metadata": {},
   "outputs": [],
   "source": [
    "taux_echec(matrice6)"
   ]
  },
  {
   "cell_type": "code",
   "execution_count": null,
   "metadata": {
    "scrolled": true
   },
   "outputs": [],
   "source": [
    "matrice6"
   ]
  },
  {
   "cell_type": "code",
   "execution_count": null,
   "metadata": {},
   "outputs": [],
   "source": [
    "matrice20 = matrice_de_confusion(20)"
   ]
  },
  {
   "cell_type": "code",
   "execution_count": null,
   "metadata": {},
   "outputs": [],
   "source": [
    "taux_echec(matrice20)"
   ]
  },
  {
   "cell_type": "code",
   "execution_count": null,
   "metadata": {},
   "outputs": [],
   "source": [
    "matrice20"
   ]
  }
 ],
 "metadata": {
  "kernelspec": {
   "display_name": "Python 3",
   "language": "python",
   "name": "python3"
  },
  "language_info": {
   "codemirror_mode": {
    "name": "ipython",
    "version": 3
   },
   "file_extension": ".py",
   "mimetype": "text/x-python",
   "name": "python",
   "nbconvert_exporter": "python",
   "pygments_lexer": "ipython3",
   "version": "3.6.9"
  }
 },
 "nbformat": 4,
 "nbformat_minor": 4
}
