{
 "cells": [
  {
   "cell_type": "markdown",
   "metadata": {},
   "source": [
    "# TP8 : Calculs de distance\n",
    "Le but de ce TP est de vous remettre dans le bain de `python` et de préparer le TP suivant. Nous allons calculer des distances dans diverses circonstances.\n",
    "\n",
    "## Exercices 1 : distance enclidenne entre deux points\n",
    "On se place dans l'hyperespace ${\\mathbb R}^n$ de dimension $n$. La _distance euclidienne_ entre deux points $x=(x_1,\\dots ,x_n)$ et $y=(y_1,\\dots, y_n)$ est donnée par\n",
    "\n",
    "$$\\sqrt{\\sum\\limits_{k=1}^n (y_k-x_k)^2}\\:.$$\n",
    "\n",
    "On suppose qu'un point est donné par la liste de ses coordonnées. Écrire une fonction `distance_euclidienne_points` qui prend en argument deux points de même dimension et renvoie leur distance."
   ]
  },
  {
   "cell_type": "code",
   "execution_count": null,
   "metadata": {},
   "outputs": [],
   "source": []
  },
  {
   "cell_type": "code",
   "execution_count": null,
   "metadata": {},
   "outputs": [],
   "source": [
    "import math\n",
    "epsilon = 0.000001\n",
    "assert(math.fabs(distance_euclidienne_points([0], [1]) - 1) < epsilon)\n",
    "assert(math.fabs(distance_euclidienne_points([1,2,3], [1,2,3])) < epsilon)\n",
    "assert(math.fabs(distance_euclidienne_points([1,2,3,4,5], [9,8,7,6,5]) - 10.954451150103322) < epsilon)"
   ]
  },
  {
   "cell_type": "markdown",
   "metadata": {},
   "source": [
    "## Interlude : conversion entre un tableau de niveau de gris et une image\n",
    "Dans la suite, on va travailler sur des images. Quand on aura une image, on commencera par la convertir en noir et blanc (ie en niveaux de gris), puis on produira une liste de listes contenant les niveaux de gris.\n",
    "\n",
    "Pour cela, nous allons utiliser la fonction suivante :"
   ]
  },
  {
   "cell_type": "code",
   "execution_count": null,
   "metadata": {},
   "outputs": [],
   "source": [
    "from PIL import Image\n",
    "\n",
    "def img2array(fic):\n",
    "    \"\"\"fic est le nom d'un fichier contenant une image\n",
    "    la fonction renvoie une liste de listes d'entiers représentants des niveaux de gris\"\"\"\n",
    "    im = Image.open(fic).convert('L')  ## chargement et passage en niveaux de gris\n",
    "    tab = []\n",
    "    i = 0\n",
    "    for c in im.getdata():\n",
    "        if i % im.width == 0: ## debut d'une nouvelle ligne dans l'image\n",
    "            tab.append([])\n",
    "        tab[-1].append(c)\n",
    "        i += 1\n",
    "    im.close()\n",
    "    return tab"
   ]
  },
  {
   "cell_type": "markdown",
   "metadata": {},
   "source": [
    "Pour récupérer un fichier image à partir d'une liste de listes de niveaux de gris, vous pouvez utiliser la fonction suivante:"
   ]
  },
  {
   "cell_type": "code",
   "execution_count": null,
   "metadata": {},
   "outputs": [],
   "source": [
    "from PIL import Image\n",
    "\n",
    "def array2img(tab, fic):\n",
    "    \"\"\"fic est un nom de fichier avec un extension valide pour une image,\n",
    "    tab est une liste de listes de niveaux de gris\n",
    "    la fonction écrit l'image dans le fichier\"\"\"\n",
    "    im = Image.new(size=(len(tab[0]), len(tab)), mode='L')\n",
    "    for i in range(len(tab)):\n",
    "        for j in range(len(tab[0])):\n",
    "            im.putpixel((j, i), tab[i][j])\n",
    "    im.save(fic)"
   ]
  },
  {
   "cell_type": "markdown",
   "metadata": {},
   "source": [
    "## Exercice 2 : distance euclidienne entre deux images\n",
    "Si on considère une image comme une matrice de points, on peut de la même manière calculer une distance euclidienne entre deux images de même dimension en regardant les distances pixels par pixels.\n",
    "\n",
    "Écrire une fonction `distance_eclidienne_image` qui prend en arguments deux images (données sous la forme des noms des fichiers les contenant) supposées de même dimension et calcule la distance euclidienne entre ces deux images."
   ]
  },
  {
   "cell_type": "code",
   "execution_count": null,
   "metadata": {},
   "outputs": [],
   "source": []
  },
  {
   "cell_type": "code",
   "execution_count": null,
   "metadata": {},
   "outputs": [],
   "source": [
    "import math\n",
    "\n",
    "epsilon = 0.000001\n",
    "assert(math.fabs(distance_euclidienne_image('a.png', 'a.png')) < epsilon)\n",
    "assert(math.fabs(distance_euclidienne_image('a.png', 'b.png') - 18031.22292025696) < epsilon)"
   ]
  },
  {
   "cell_type": "markdown",
   "metadata": {},
   "source": [
    "## Exercice 3 : distance de Hausdorf entre deux images\n",
    "Considérons les trois images suivantes:\n",
    "\n",
    "(a) : ![](a.png)  (b) : ![](b.png)  (c) : ![](c.png)\n",
    "\n",
    "La distance euclidienne n'est pas extrêmement satisfaisante car :"
   ]
  },
  {
   "cell_type": "code",
   "execution_count": null,
   "metadata": {},
   "outputs": [],
   "source": [
    "distance_euclidienne_image('a.png', 'b.png')"
   ]
  },
  {
   "cell_type": "code",
   "execution_count": null,
   "metadata": {},
   "outputs": [],
   "source": [
    "distance_euclidienne_image('b.png', 'c.png')"
   ]
  },
  {
   "cell_type": "markdown",
   "metadata": {},
   "source": [
    "alors qu'on a envie de dire de façon intuitive que (a) est plus proche de (b) que (c).\n",
    "\n",
    "On va considérer une autre distance appelée _distance de Hausdorf_.\n",
    "\n",
    "L'idée de la distance de Hausdorf entre deux images `img1` et `img2` est de considérer pour chaque point de `img1` la distance (en distance euclidienne des coordonnées) minimale à un point identique de `img2`, et de prendre le maximum de cette valeur sur l'ensemble des points de `img2`. On considère que deux points sont identiques si leurs niveaux de gris respectifs ne diffèrent pas de plus de 10 au sens large."
   ]
  },
  {
   "cell_type": "markdown",
   "metadata": {},
   "source": [
    "1. Écrire une fonction `point_identique_le_plus_proche` qui prend en argument deux listes de listes d'entiers représentant deux images `img1` et `img2` en noir et blanc supposées de même dimension, et deux entiers représentant respectivemnt l'abscisse et l'ordonnée d'un point dans `img1` et renvoie les coordonnées du point identique de `img2` le plus proche. "
   ]
  },
  {
   "cell_type": "code",
   "execution_count": null,
   "metadata": {},
   "outputs": [],
   "source": []
  },
  {
   "cell_type": "code",
   "execution_count": null,
   "metadata": {
    "scrolled": true
   },
   "outputs": [],
   "source": [
    "import math\n",
    "\n",
    "apsilon = 0.000001\n",
    "assert(math.fabs(distance_au_point_identique_le_plus_proche(img2array('b_petit.png'), img2array('c_petit.png'), 1, 1) - 19) < epsilon)"
   ]
  },
  {
   "cell_type": "markdown",
   "metadata": {},
   "source": [
    "2. Écrire une fonction `distance_Hausdorf` qui prend en argument les noms de deux fichiers contenant des images supposées de même taille et renvoie leur distance de Hausdorf."
   ]
  },
  {
   "cell_type": "code",
   "execution_count": null,
   "metadata": {},
   "outputs": [],
   "source": []
  },
  {
   "cell_type": "code",
   "execution_count": null,
   "metadata": {},
   "outputs": [],
   "source": [
    "import math\n",
    "\n",
    "epsilon = 0.000001\n",
    "assert(math.fabs(distance_Hausdorf('a_petit.png', 'b_petit.png') - 10) < epsilon)"
   ]
  },
  {
   "cell_type": "markdown",
   "metadata": {},
   "source": [
    "Pour les tests, la fonction `distance_Hausdorf` ayant une complexité assez mauvaise, nous les ferons sur les images suivantes:\n",
    "\n",
    "(a) ![](a_petit.png) (b) : ![](b_petit.png) (c) : ![](c_petit.png)\n",
    "\n",
    "Comparez :"
   ]
  },
  {
   "cell_type": "code",
   "execution_count": null,
   "metadata": {},
   "outputs": [],
   "source": [
    "distance_euclidienne_image('a_petit.png', 'b_petit.png')"
   ]
  },
  {
   "cell_type": "code",
   "execution_count": null,
   "metadata": {},
   "outputs": [],
   "source": [
    "distance_euclidienne_image('b_petit.png', 'c_petit.png')"
   ]
  },
  {
   "cell_type": "code",
   "execution_count": null,
   "metadata": {},
   "outputs": [],
   "source": [
    "distance_Hausdorf('a_petit.png', 'b_petit.png')"
   ]
  },
  {
   "cell_type": "code",
   "execution_count": null,
   "metadata": {},
   "outputs": [],
   "source": [
    "distance_Hausdorf('b_petit.png', 'c_petit.png')"
   ]
  },
  {
   "cell_type": "markdown",
   "metadata": {},
   "source": [
    "Sur cet exemple, la distance de Hausdorf correcpond plus à l'idée qu'on se fait de la distance entre deux images. De même, si une a un peu bougé par rapport à l'original, ou si elle est un peu flou, on trouvera une distance pas trop grande."
   ]
  },
  {
   "cell_type": "markdown",
   "metadata": {},
   "source": [
    "## Exercice 4 : détection de contours [difficile]\n",
    "La complexité de la fonction `distance_Hausdorf` est quadratique sur le nombre de pixels de l'image, donc en $O(n^4)$ si $n$ est le côté de l'image quand celle-ci est carrée. Ce qui la rend inutilisable en pratique. Pour diminuer le temps d'exécution, une approche possible est de ne pas faire un calcul pour chaque point de l'image, mais uniquement pour certains points remarquables, par exemple les points qui apparaissent sur les contours."
   ]
  },
  {
   "cell_type": "markdown",
   "metadata": {},
   "source": [
    "Le principe pour trouver le contour d'une image, est de repérer les points dont la couleur (ici le niveau de gris) varie particulièrement par rapport aux couleurs des voisins.\n",
    "\n",
    "Pour cela, on regarde la variation par rapport au voisin du dessous et au voisin de droite (en fait par rapport au voisin obtenu en décrémentant l'abscisse et au voisin obtenu en décrémentant l'ordonnée, peu importe l'orientation de l'image).\n",
    "\n",
    "1. Écrire une fonction `derivee` qui prend en argument une liste de listes de niveaux de gris `T`, et deux indices 'x' et 'y' qui ne sont pas sur les bords et calcule la dérivée en le point de coordonnées $(x, y)$, c'est-à-dire\n",
    "$$\\sqrt{\\bigl(T(x,y)-T(x-1,y)\\bigr)^2+\\bigl(T(x,y)-T(x,y-1)\\bigr)^2}$$"
   ]
  },
  {
   "cell_type": "code",
   "execution_count": null,
   "metadata": {},
   "outputs": [],
   "source": []
  },
  {
   "cell_type": "code",
   "execution_count": null,
   "metadata": {},
   "outputs": [],
   "source": [
    "import math\n",
    "\n",
    "epsilon = 0.000001\n",
    "assert(math.fabs(derivee([[1,2,3], [9,8,7], [6,13,3]], 1, 1) - 6.082762530298219) < epsilon)"
   ]
  },
  {
   "cell_type": "markdown",
   "metadata": {},
   "source": [
    "2. Écrivez une fonction `seuil` qui prend en argument une liste de listes de niveaux de gris `T` et un entier `s` et renvoie une liste `S` de coordonnées telle que $(x, y)$ appartient à cette liste si et seulement si la dérivée de `T` au point $(x, y)$ est définie et supérieure au seuil `s`."
   ]
  },
  {
   "cell_type": "code",
   "execution_count": null,
   "metadata": {},
   "outputs": [],
   "source": []
  },
  {
   "cell_type": "markdown",
   "metadata": {},
   "source": [
    "3. Écrire une fonction `distance_au_point_identique_le_plus_proche_amelioree` qui est une variante de `distance_au_point_identique_le_plus_proche`: en plus des paramètres de `distance_au_point_identique_le_plus_proche`, elle prend en paramètre une liste de coordonnées et ne compare ce qui se passe au point $(x, y)$ qu'avec les points dont les coordonnées appartiennent à cette liste."
   ]
  },
  {
   "cell_type": "code",
   "execution_count": null,
   "metadata": {},
   "outputs": [],
   "source": []
  },
  {
   "cell_type": "markdown",
   "metadata": {},
   "source": [
    "4. Écrire une fonction `distance_Hausdorf_amelioree` qui prend en argument les noms de deux fichiers contenant des images supposées de même taille et renvoie la variante de leur distance de Hausdorf qui comparent les points des contours des deux images à partir des listes obtenues par `seuil`."
   ]
  },
  {
   "cell_type": "code",
   "execution_count": null,
   "metadata": {},
   "outputs": [],
   "source": []
  },
  {
   "cell_type": "code",
   "execution_count": null,
   "metadata": {},
   "outputs": [],
   "source": [
    "import math\n",
    "\n",
    "epsilon = 0.000001\n",
    "assert(math.fabs(distance_Hausdorf_amelioree('a_petit.png', 'b_petit.png', 100) - 9.055385138137417) < epsilon)"
   ]
  },
  {
   "cell_type": "markdown",
   "metadata": {},
   "source": [
    "On peut maintenant calculer les distances de Hausdorf améliorées sur les petites images:"
   ]
  },
  {
   "cell_type": "code",
   "execution_count": null,
   "metadata": {},
   "outputs": [],
   "source": [
    "distance_Hausdorf_amelioree('a_petit.png', 'b_petit.png', 100)"
   ]
  },
  {
   "cell_type": "code",
   "execution_count": null,
   "metadata": {
    "scrolled": true
   },
   "outputs": [],
   "source": [
    "distance_Hausdorf_amelioree('b_petit.png', 'c_petit.png', 100)"
   ]
  },
  {
   "cell_type": "markdown",
   "metadata": {},
   "source": [
    "Mais également sur les plus grandes:"
   ]
  },
  {
   "cell_type": "code",
   "execution_count": null,
   "metadata": {},
   "outputs": [],
   "source": [
    "distance_Hausdorf_amelioree('a.png', 'b.png', 100)"
   ]
  },
  {
   "cell_type": "code",
   "execution_count": null,
   "metadata": {},
   "outputs": [],
   "source": [
    "distance_Hausdorf_amelioree('b.png', 'c.png', 100)"
   ]
  }
 ],
 "metadata": {
  "kernelspec": {
   "display_name": "Python 3",
   "language": "python",
   "name": "python3"
  },
  "language_info": {
   "codemirror_mode": {
    "name": "ipython",
    "version": 3
   },
   "file_extension": ".py",
   "mimetype": "text/x-python",
   "name": "python",
   "nbconvert_exporter": "python",
   "pygments_lexer": "ipython3",
   "version": "3.6.9"
  }
 },
 "nbformat": 4,
 "nbformat_minor": 4
}
