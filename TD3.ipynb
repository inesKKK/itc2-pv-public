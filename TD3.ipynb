{
 "cells": [
  {
   "cell_type": "markdown",
   "metadata": {},
   "source": [
    "# TD3 : programmation dynamique -- complément programmation"
   ]
  },
  {
   "cell_type": "markdown",
   "metadata": {},
   "source": [
    "### Question 5\n",
    "Implémenter la fonction `nombre_multiplications` qui prend en argument la liste des dimensions successives des matrices et renvoie le nombre minimal de produits entre scalaires à effectuer (vous pouvez utiliser la fonction `min` de python sur une liste)."
   ]
  },
  {
   "cell_type": "code",
   "execution_count": null,
   "metadata": {},
   "outputs": [],
   "source": []
  },
  {
   "cell_type": "code",
   "execution_count": null,
   "metadata": {},
   "outputs": [],
   "source": [
    "assert(nombre_multiplications([13,5,89,3,34]) == 2856)"
   ]
  },
  {
   "cell_type": "markdown",
   "metadata": {},
   "source": [
    "### Question 6.1\n",
    "Écrire une fonction `min_et_indice` qui prend en argument une liste de nombres (supposée non vide) et renvoie un couple formé du minimum de cette liste et de l'indice de ce minimum dans la liste."
   ]
  },
  {
   "cell_type": "code",
   "execution_count": null,
   "metadata": {},
   "outputs": [],
   "source": []
  },
  {
   "cell_type": "code",
   "execution_count": null,
   "metadata": {},
   "outputs": [],
   "source": [
    "assert(min_et_indice([1,4,5,2,7]) == (1, 0))\n",
    "assert(min_et_indice([4,5,3,2,7,8]) == (2, 3))\n",
    "assert(min_et_indice([4,5,3,2,7,-3]) == (-3, 5))"
   ]
  },
  {
   "cell_type": "markdown",
   "metadata": {},
   "source": [
    "### Question 6.2\n",
    "Écrire une nouvelle fonction `nombre_multiplications` qui prend en argument la liste des dimensions successives des matrices et renvoie un couple formé du nombre minimal de produits entre scalaires à effectuer et d'une matrice $m$ où si $k=m_{i,j}$ (pour $i<j$), alors le calcul du produit $M_i\\dots M_j$ se fait pour minimiser le nombre de produits entre scalaires en parenthésant $(M_i\\dots M_k)\\cdot (M_{k+1}\\dots M_j)$."
   ]
  },
  {
   "cell_type": "code",
   "execution_count": null,
   "metadata": {},
   "outputs": [],
   "source": []
  },
  {
   "cell_type": "code",
   "execution_count": null,
   "metadata": {},
   "outputs": [],
   "source": [
    "m, kmin = nombre_multiplications([13,5,89,3,34])\n",
    "assert(m == 2856)\n",
    "assert(kmin ==\n",
    "[[math.inf, math.inf, math.inf, math.inf, math.inf],\n",
    " [math.inf, math.inf, 1, 1, 3],\n",
    " [math.inf, math.inf, math.inf, 2, 3],\n",
    " [math.inf, math.inf, math.inf, math.inf, 3],\n",
    " [math.inf, math.inf, math.inf, math.inf, math.inf]])"
   ]
  },
  {
   "cell_type": "markdown",
   "metadata": {},
   "source": [
    "### Question 6.3\n",
    "Écrire une fonction `parentheser` qui prend en argument une matrice telle que renvoyée par la fonction `nombre_multiplications` de la question précédente et deux entiers $i$ et $j$ et renvoie le parenthésage correct de l'expression pour minimiser le nombre de produits entre scalaires."
   ]
  },
  {
   "cell_type": "code",
   "execution_count": null,
   "metadata": {},
   "outputs": [],
   "source": []
  },
  {
   "cell_type": "code",
   "execution_count": null,
   "metadata": {},
   "outputs": [],
   "source": [
    "import math\n",
    "kmin = \\\n",
    "[[math.inf, math.inf, math.inf, math.inf, math.inf],\n",
    " [math.inf, math.inf, 1, 1, 3],\n",
    " [math.inf, math.inf, math.inf, 2, 3],\n",
    " [math.inf, math.inf, math.inf, math.inf, 3],\n",
    " [math.inf, math.inf, math.inf, math.inf, math.inf]]\n",
    "assert(parentheser(kmin, 1, 4) == [[[1], [2, 3]], [4]])"
   ]
  }
 ],
 "metadata": {
  "kernelspec": {
   "display_name": "Python 3",
   "language": "python",
   "name": "python3"
  },
  "language_info": {
   "codemirror_mode": {
    "name": "ipython",
    "version": 3
   },
   "file_extension": ".py",
   "mimetype": "text/x-python",
   "name": "python",
   "nbconvert_exporter": "python",
   "pygments_lexer": "ipython3",
   "version": "3.6.9"
  }
 },
 "nbformat": 4,
 "nbformat_minor": 4
}
