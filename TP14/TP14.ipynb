{
 "cells": [
  {
   "cell_type": "markdown",
   "metadata": {},
   "source": [
    "# TP14 : Détection de contour\n",
    "Le but de ce TP est de détecter un contour dans une image en utilisant l'algorithme de Dijkstra. L'idée est que l'utilisateur doit désigner deux pixels dans une image et l'algorithme doit trouver un contour qui permet de relier ces deux points.\n",
    "\n",
    "Pour plus de simplicité, on se limite à des images en niveaux de gris, ainsi chaque pixel de l'image est identifié avec un entier entre 0 et 255 qui représente son niveau de gris.\n",
    "\n",
    "Pour rappel, l'algorithme de Dijkstra permet, dans un graphes à poids positisf ou nuls, de calculer les chemins de poids minimal d'un sommet donné vers tous les autres sommets du graphe.\n",
    "\n",
    "Je remets les fonctions permettant de lire une image dans un fichier et d'afficher l'image dans le notebook:"
   ]
  },
  {
   "cell_type": "code",
   "execution_count": null,
   "metadata": {},
   "outputs": [],
   "source": [
    "from PIL import Image\n",
    "\n",
    "def img2array(fic):\n",
    "    \"\"\"fic est le nom d'un fichier contenant une image\n",
    "    la fonction renvoie une liste de listes d'entiers représentants des niveaux de gris\"\"\"\n",
    "    im = Image.open(fic).convert('L')  ## chargement et passage en niveaux de gris\n",
    "    tab = [ [0 for _ in range(im.height)] for _ in range(im.width)]\n",
    "    i = 0\n",
    "    j = -1\n",
    "    for c in im.getdata():\n",
    "        if i % im.width == 0: ## debut d'une nouvelle ligne dans l'image\n",
    "            i = 0\n",
    "            j += 1\n",
    "        tab[i][j] = c\n",
    "        i += 1\n",
    "    im.close()\n",
    "    return tab"
   ]
  },
  {
   "cell_type": "code",
   "execution_count": null,
   "metadata": {},
   "outputs": [],
   "source": [
    "from PIL import Image\n",
    "from IPython.display import display\n",
    "\n",
    "def affiche_image(img):\n",
    "    \"\"\"img : image sous forme d'une liste de listes de niveaux de gris\n",
    "    affichage de l'image\"\"\"\n",
    "    im = Image.new(size=(len(img), len(img[0])), mode='L')\n",
    "    for i in range(len(img)):\n",
    "        for j in range(len(img[i])):\n",
    "            im.putpixel((i, j), img[i][j])\n",
    "    display(im)"
   ]
  },
  {
   "cell_type": "markdown",
   "metadata": {},
   "source": [
    "### Un graphe à partir d'une image\n",
    "Une image est un tableau bidimensionnel de pixels. Ainsi à toute image on peut associer un graphe non orienté dont les sommets sont les pixels de l'image et tel que deux sommets sont adjacents si et seulement si les pixels correspondants sont voisins dans l'image. En dehors des sommets représentant des pixels sur le bord de l'image, chaque sommet possède donc 8 voisins.\n",
    "\n",
    "Une _ligne_ sur une image est une suite de pixels voisins. Cette notion correspond donc à celle de chemin dans le graphe associé à l'image.\n",
    "\n",
    "Intuitivement, un contour dans une image représente une suite de pixels qui sont entourés à peu près des mêmes couleurs (ou des mêmes intensités lumineuses dans le cas d'une image en noir et blanc)."
   ]
  },
  {
   "cell_type": "markdown",
   "metadata": {},
   "source": [
    "## Mise en place des poids des arêtes\n",
    "Pour que le chemin de poids minimal entre deux sommets représente un contour, il faut bien choisir les poids sur les arêtes du graphe. Nous allons prendre les poids suggérés par l'article _[Intelligent scissors for image composition](https://dl.acm.org/doi/10.1145/218380.218442)_ de Eric N. Mortensen et William A. Barrett.\n",
    "\n",
    "Pour calculer ces poids, il faut utiliser l'opération de convolution sur des matrices.\n",
    "\n",
    "Si on identifie une image avec une matrice d'entiers \n",
    "$$M=(m_{i,j})_{\\genfrac{}{}{0pt}{}{0\\leq i< H}{0\\leq j< L}}\\:,$$\n",
    "on peut lui appliquer un filtre\n",
    "$$F = (f_{i, j})_{\\genfrac{}{}{0pt}{}{-I\\leq i\\leq I}{-I\\leq j\\leq I}}$$\n",
    "par _produit de convolution_ : $M\\star F$ est une matrice\n",
    "$H\\times L$ dont les coefficients sont donnés par:\n",
    "$$(M\\star F)_{k,\\ell} = \\sum_{i=-I}^{I}\\sum_{j=-I}^{I} m_{k+i, \\ell+j}\\times\n",
    "f_{i, j}\\:.$$\n",
    "(Bien sûr on se limite aux coefficients qui ont un sens dans la somme ci-dessus. En général $I$ est nettement plus petit que $H$ et $L$, cette limitation ne concerne donc qu'un mince bord de l'image.)"
   ]
  },
  {
   "cell_type": "markdown",
   "metadata": {},
   "source": [
    "### Exercice 1: produit de convolution\n",
    "Écrire une fonction `convolution` qui prend en argument une matrice et un filtre et renvoie le produit de convolution des deux. (À noter que dans la vraie vie, on utilise une transformée de Fourier rapide pour cette opération, ce qui permet de gagner deux ordres de grandeur en complexité; ici nous ferons le calcul naïvement et cela explique la lenteur sur de vraies images.)"
   ]
  },
  {
   "cell_type": "code",
   "execution_count": null,
   "metadata": {},
   "outputs": [],
   "source": []
  },
  {
   "cell_type": "code",
   "execution_count": null,
   "metadata": {},
   "outputs": [],
   "source": [
    "F = [[0, 0, 0], [0, 1, 0], [0, 0, 0]]\n",
    "M = [[1, 2, 3, 4], [5, 6, 7, 8], [9, 10, 11, 12]]\n",
    "assert(convolution(M, F) == M)\n",
    "\n",
    "F = [[-1,0,1], [1,0,-1], [0,1,-1]]\n",
    "assert(convolution(M, F) == [[-3, -3, -9, 3], [-5, -1, -14, 2], [-5, -1, -6, 2]])"
   ]
  },
  {
   "cell_type": "markdown",
   "metadata": {},
   "source": [
    "### Laplacien\n",
    "Le _laplacien_ est un opérateur qui mesure la différence entre l'intensité lumineuse d'un pixel et la valeur moyenne des intensités lumineuses des pixels autour.\n",
    "Il peut être approché en convoluant l'image avec le filtre"
   ]
  },
  {
   "cell_type": "code",
   "execution_count": null,
   "metadata": {},
   "outputs": [],
   "source": [
    "Laplacien = [\n",
    "    [-1, -1, -1, -1, -1],\n",
    "    [-1, -1, -1, -1, -1],\n",
    "    [-1, -1, 24, -1, -1],\n",
    "    [-1, -1, -1, -1, -1],\n",
    "    [-1, -1, -1, -1, -1]\n",
    "]"
   ]
  },
  {
   "cell_type": "markdown",
   "metadata": {},
   "source": [
    "On note $\\Delta M$ la matrice ainsi obtenue : $\\Delta M = M\\star L$."
   ]
  },
  {
   "cell_type": "markdown",
   "metadata": {},
   "source": [
    "### Gradient\n",
    "Le _gradient_ est une généralisation vectorielle de la dérivée. La dérivée d'une fonction définie sur ${\\mathbb R}$ (c'est-à-dire une ligne) nous donne des renseignements sur les variations de cette fonction, le gradient nous donne des renseignements sur les variations d'une fonction définie sur un plan. On peut considérer qu'une image en niveaux de gris est une fonction qui à chaque point associe comme valeur l'intensité lumineuse de ce point.\n",
    "\n",
    "Le gradient est dirigé perpendiculairement aux lignes de niveaux, vers les valeurs croissantes.\n",
    "\n",
    "La composante horizontale (suivant l'axe des abscisses) du gradient peut être approchée par une convolution avec le filtre"
   ]
  },
  {
   "cell_type": "code",
   "execution_count": null,
   "metadata": {},
   "outputs": [],
   "source": [
    "Gx = [\n",
    "    [1, 0, -1],\n",
    "    [2, 0, -2],\n",
    "    [1, 0, -1]\n",
    "]"
   ]
  },
  {
   "cell_type": "markdown",
   "metadata": {},
   "source": [
    "La composante verticale (suivant l'axe des ordonnées) du gradient peut être approchée par une convolution avec le filtre transposé."
   ]
  },
  {
   "cell_type": "code",
   "execution_count": null,
   "metadata": {},
   "outputs": [],
   "source": [
    "Gy = [\n",
    "    [1, 2, 1],\n",
    "    [0, 0, 0],\n",
    "    [-1, -2, -1]\n",
    "]"
   ]
  },
  {
   "cell_type": "markdown",
   "metadata": {},
   "source": [
    "On note $$\\vec\\nabla M = (M\\star G_x, M\\star G_y)$$ le gradient de $M$. En un point $P=(i,j)$, le gradient $\\vec\\nabla M_{P}$ est le vecteur de coordonnées $((M\\star G_x)_{i,j}, (M\\star G_y)_{i,j})$.\n",
    "\n",
    "La norme de $\\vec\\nabla M_{P}$ est notée $\\nabla M_{P}$.\n",
    "\n",
    "Pour accélerer les calculs, au lieu de transmettre une matrice de fonction en fonction, on va transmettre les valeurs liées au laplacien et au gradient de l'image.\n",
    "\n",
    "Dans toutes les fonctions qui suivent, les paramètres qui apparaissent sont les suivants, si `M` est la matrice associée à une image:\n",
    "* `laplM`: laplacien de `M`\n",
    "* `gradMx` : composante horizontale du gradient de `M`\n",
    "* `gradMy` : composante vertitale du gradient de `M`\n",
    "* `gradMax` : maximum des normes des gradients de `M`\n",
    "* `P`, `Q` : points (sous le forme de couples d'entiers)"
   ]
  },
  {
   "cell_type": "markdown",
   "metadata": {},
   "source": [
    "### Exercice 2 : gradient\n",
    "1. Écrire une fonction `gradient` qui prend en argument une matrice $M$ et renvoie le couple $(M\\star G_x, M\\star G_y)$."
   ]
  },
  {
   "cell_type": "code",
   "execution_count": null,
   "metadata": {},
   "outputs": [],
   "source": []
  },
  {
   "cell_type": "code",
   "execution_count": null,
   "metadata": {},
   "outputs": [],
   "source": [
    "M = [[1, 2, 3, 4], [5, 6, 7, 8], [9, 10, 11, 12]]\n",
    "gradMx, gradMy = gradient(M)\n",
    "assert((gradMx[0][0], gradMy[0][0]) == (-10/4, -16/4))\n",
    "assert((gradMx[2][3], gradMy[2][3]) == (4/4, 16/4))"
   ]
  },
  {
   "cell_type": "markdown",
   "metadata": {},
   "source": [
    "2. Écrire une fonction `norme` qui prend en argument un couple d'entiers représentant un vecteur et renvoie sa norme."
   ]
  },
  {
   "cell_type": "code",
   "execution_count": null,
   "metadata": {},
   "outputs": [],
   "source": []
  },
  {
   "cell_type": "code",
   "execution_count": null,
   "metadata": {},
   "outputs": [],
   "source": [
    "import math\n",
    "epsilon = .000001\n",
    "assert(math.fabs(norme((0,0))) < epsilon)\n",
    "assert(math.fabs(norme((4,7)) - 8.06225774829855) < epsilon)\n",
    "assert(math.fabs(norme((-5,8)) - 9.433981132056603) < epsilon)"
   ]
  },
  {
   "cell_type": "markdown",
   "metadata": {},
   "source": [
    "Le poids d'une arête de $P$ vers $Q$ est donné par la somme de trois termes pour lesquels nous allons écrire des fonctions petit à petit:\n",
    "$$0.43f_Z(Q) + 0.43f_G(Q) + 0.14f_D(P, Q)\\:,$$\n",
    "\n",
    "où:\n",
    "* $f_Z$ est définie par\n",
    "$$f_Z(Q)=\\begin{cases}\n",
    "0 & \\text{si }\\Delta M_{Q}\\text{ est proche de }0,\\\\\n",
    "1 & \\text{sinon.}\n",
    "\\end{cases}$$"
   ]
  },
  {
   "cell_type": "markdown",
   "metadata": {},
   "source": [
    "#### calcul de $f_Z$\n",
    "Voici une fonction `fZ` qui prend en argument le laplacien d'une matrice et un point (sous la forme d'un couple de coordonnées), et renvoie la valeur de $f_Z$ pour ce point."
   ]
  },
  {
   "cell_type": "code",
   "execution_count": null,
   "metadata": {},
   "outputs": [],
   "source": [
    "def fZ(laplM, Q):\n",
    "    return 0 if laplM[Q[0]][Q[1]] < 0.00001 else 1"
   ]
  },
  {
   "cell_type": "markdown",
   "metadata": {},
   "source": [
    "* $f_G$ est définie par\n",
    "$$f_G(Q) = 1-\\frac{\\nabla M_{Q}}{\\nabla_{\\max}}\\:,$$\n",
    " où\n",
    "  $\\nabla_{\\max}$ désigne le maximum de la norme du gradient sur\n",
    "  tous les points de l'image."
   ]
  },
  {
   "cell_type": "markdown",
   "metadata": {},
   "source": [
    "### Exercice 4 : calcul de $f_G$\n",
    "1. Écrire une fonction `grad_max` qui prend en argument la composante horizontale et la composante verticale du gradient d'une matrice, et renvoie le maximum de la norme du gradient sur tous les points de l'image correspondante."
   ]
  },
  {
   "cell_type": "code",
   "execution_count": null,
   "metadata": {},
   "outputs": [],
   "source": []
  },
  {
   "cell_type": "code",
   "execution_count": null,
   "metadata": {},
   "outputs": [],
   "source": [
    "import math\n",
    "epsilon = 0.000001\n",
    "M = [[1, 2, 3, 4], [5, 6, 7, 8], [9, 10, 11, 12]]\n",
    "gradMx, gradMy = gradient(M)\n",
    "assert(math.fabs(grad_max(gradMx, gradMy) - 48.82622246293481) < epsilon)"
   ]
  },
  {
   "cell_type": "markdown",
   "metadata": {},
   "source": [
    "2. Écrire une fonction `fG(gradMx, gradMy, gradMax, Q)` qui renvoie la valeur de $f_G$ pour le point `Q`."
   ]
  },
  {
   "cell_type": "code",
   "execution_count": null,
   "metadata": {},
   "outputs": [],
   "source": []
  },
  {
   "cell_type": "code",
   "execution_count": null,
   "metadata": {},
   "outputs": [],
   "source": [
    "import math\n",
    "epsilon = 0.000001\n",
    "M = [[1, 2, 3, 4], [5, 6, 7, 8], [9, 10, 11, 12]]\n",
    "gradMx, gradMy = gradient(M)\n",
    "gradMax = grad_max(gradMx, gradMy)\n",
    "assert(math.fabs(fG(gradMx, gradMy, gradMax, (2,1)) - 0.6336283472763441) < epsilon)"
   ]
  },
  {
   "cell_type": "markdown",
   "metadata": {},
   "source": [
    "* et $f_D$ est définie par\n",
    "$$f_D(P, Q) = \\frac{2}{3\\pi}\\bigl(\\arccos{d_{P}(P, Q)} +\n",
    "  \\arccos{d_{Q} (P, Q)}\\bigr)\\:,$$ où\n",
    "$$d_{X}(P,Q) = D(X)\\cdot L(P, Q)$$\n",
    "est un produit scalaire entre le vecteur unitaire perpendiculaire au gradient (et donc colinéaire aux lignes de niveaux)\n",
    "$$D(P) = \\bigl(\\frac{(\\vec\\nabla M_{P})_y}{\\nabla M_{P}},\n",
    "-\\frac{(\\vec\\nabla M_{P})_x}{\\nabla M_{P}}\\bigr)$$ et  le\n",
    "vecteur $\\overrightarrow{PQ}$ ou $\\overrightarrow{QP}$:\n",
    "$$L(P,Q) = \\begin{cases}\n",
    "\\overrightarrow{PQ} & \\text{si }D(P)\\cdot \\overrightarrow{PQ}\\geq 0.\\\\\n",
    "\\overrightarrow{QP} & \\text{sinon.}\n",
    "\\end{cases}$$\n",
    "Cette composante sert à évaluer l'écart entre la ligne de niveau\n",
    "passant par $P$ et le vecteur $\\overrightarrow{PQ}$: le\n",
    "produit scalaire de la formule fait apparaître le cosinus de l'angle entre la ligne de niveau colinéaire à\n",
    "$D(X)$ et le vecteur $\\overrightarrow{PQ}$."
   ]
  },
  {
   "cell_type": "markdown",
   "metadata": {},
   "source": [
    "### Exercice 5 : calcul de $f_D$\n",
    "Écrire une fonction `produit_scalaire` qui prend en argument deux listes de longueur 2 représentant des vecteurs et renvoie le produit scalaire de ces deux vecteurs."
   ]
  },
  {
   "cell_type": "code",
   "execution_count": null,
   "metadata": {},
   "outputs": [],
   "source": []
  },
  {
   "cell_type": "code",
   "execution_count": null,
   "metadata": {},
   "outputs": [],
   "source": [
    "assert(produit_scalaire((1,3),(-2,9)) == 25)"
   ]
  },
  {
   "cell_type": "markdown",
   "metadata": {},
   "source": [
    "Voici une fonction `dX(gradMx, gradMy, P, Q, X)` qui renvoie la valeur de $d_X(P, Q)$ et la fonction `fD(gradMx, gradMy, P, Q)` qui renvoie la valeur de $f_D(P, Q)$."
   ]
  },
  {
   "cell_type": "code",
   "execution_count": null,
   "metadata": {},
   "outputs": [],
   "source": [
    "import math\n",
    "\n",
    "def dX(gradMx, gradMy, P, Q, X):\n",
    "    epsilon = 0.000000001\n",
    "    gradX = (gradMx[X[0]][X[1]], gradMy[X[0]][X[1]])\n",
    "    norme_gradX = norme(gradX)\n",
    "    if norme_gradX < epsilon:\n",
    "        return 0\n",
    "    DX = (gradX[1]/norme_gradX, -gradX[0]/norme_gradX)\n",
    "    gradP = (gradMx[P[0]][P[1]], gradMy[P[0]][P[1]])\n",
    "    DP = (gradP[1], -gradP[0])\n",
    "    normePQ = norme((Q[0]-P[0], Q[1]-P[1]))\n",
    "    LPQ = ((Q[0]-P[0])/normePQ, (Q[1]-P[1])/normePQ) if produit_scalaire(DP, [Q[0]-P[0], Q[1]-P[1]])>=0\\\n",
    "        else ((P[0]-Q[0])/normePQ, (P[1]-Q[1])/normePQ)\n",
    "    return produit_scalaire(DX, LPQ)\n",
    "\n",
    "def fD(gradMx, gradMy, P, Q):\n",
    "    return 2/(3*math.pi)*(math.acos(dX(gradMx, gradMy, P, Q, P)) + math.pi - math.acos(dX(gradMx, gradMy, P, Q, Q)))"
   ]
  },
  {
   "cell_type": "markdown",
   "metadata": {},
   "source": [
    "### Exercice 6 : poids d'une arête\n",
    "Écrire une fonction `poids(laplM, gradMx, gradMy, gradMax, P, Q)` qui renvoie le poids de l'arête entre `P` et `Q`."
   ]
  },
  {
   "cell_type": "code",
   "execution_count": null,
   "metadata": {},
   "outputs": [],
   "source": []
  },
  {
   "cell_type": "code",
   "execution_count": null,
   "metadata": {},
   "outputs": [],
   "source": [
    "import math\n",
    "epsilon = 0.0000001\n",
    "M = [[1, 2, 3, 4], [5, 6, 7, 8], [9, 10, 11, 12]]\n",
    "laplM = convolution(M, Laplacien)\n",
    "gradMx, gradMy = gradient(M)\n",
    "gradMax = grad_max(gradMx, gradMy)\n",
    "P = (1,2)\n",
    "Q = (2,3)\n",
    "assert(math.fabs(poids(laplM, gradMx, gradMy, gradMax, P, Q) - 0.7868442004809104) < epsilon)"
   ]
  },
  {
   "cell_type": "markdown",
   "metadata": {},
   "source": [
    "## Interlude : file de priorité\n",
    "Pour implémenter l'algorithme de Dijkstra, nous allons utiliser des files de priorité. Le module `heapq` fournit tout ce qu'il faut pour cela:"
   ]
  },
  {
   "cell_type": "code",
   "execution_count": null,
   "metadata": {},
   "outputs": [],
   "source": [
    "import heapq\n",
    "#help(heapq)"
   ]
  },
  {
   "cell_type": "markdown",
   "metadata": {},
   "source": [
    "Pour mettre un point $P$ avec une poids $p$, on peut utiliser un couple $(p, P)$ car les couples sont ordonnés en fonction de leurs premières composantes."
   ]
  },
  {
   "cell_type": "markdown",
   "metadata": {},
   "source": [
    "## Mise en place de l'algorithme de Dijkstra"
   ]
  },
  {
   "cell_type": "markdown",
   "metadata": {},
   "source": [
    "### Exercice : liste de voisins\n",
    "Écrire une fonction `voisins` qui prend en argument une matrice représentant une image (pour ses dimensions) et un point (sous la forme d'un couple d'entiers) et renvoie la liste des voisins du points dans l'image."
   ]
  },
  {
   "cell_type": "code",
   "execution_count": null,
   "metadata": {},
   "outputs": [],
   "source": []
  },
  {
   "cell_type": "code",
   "execution_count": null,
   "metadata": {},
   "outputs": [],
   "source": [
    "M = [[1, 2, 3, 4], [5, 6, 7, 8], [9, 10, 11, 12]]\n",
    "assert(voisins(M, (2,3)) == [(1, 2), (1, 3), (2, 2), (2, 4)])"
   ]
  },
  {
   "cell_type": "markdown",
   "metadata": {},
   "source": [
    "### Exercice : algorithme de Dijkstra\n",
    "Pour accélerer les calculs, au lieu de transmettre l'image, on va là encore transmettre les valeurs liées au laplacien et au gradient de l'image.\n",
    "\n",
    "Dans toutes les fonctions qui suivent, les paramètres qui apparaissent sont les suivants, si `M` est la matrice associée à une image:\n",
    "* `laplM`: laplacien de `M`\n",
    "* `gradMx` : composante horizontale du gradient de `M`\n",
    "* `gradMy` : composante vertitale du gradient de `M`\n",
    "* `gradMax` : maximum des gradients de `M`\n",
    "* `P`, `Q` : points (sous le forme de couples d'entiers)\n",
    "* `dist` : tableau des distances calculées\n",
    "* `pred` : tableau des prédécesseurs calculés\n",
    "* `file` : file d'attente\n",
    "\n",
    "\n",
    "\n",
    "1. Écrire une fonction initialisation qui prend en argument une matrice représentant une image et renvoie un couple de deux tableaux bidimensionnels de mêmes dimensions que l'image, le premier contenant des `math.inf` dans toutes ses cases (ce sont les distances initiales), et le deuxième des `None` dans toutes ses cases (ce sont les prédécesseurs initiaux)."
   ]
  },
  {
   "cell_type": "code",
   "execution_count": null,
   "metadata": {},
   "outputs": [],
   "source": []
  },
  {
   "cell_type": "code",
   "execution_count": null,
   "metadata": {},
   "outputs": [],
   "source": [
    "import random\n",
    "c1, c2 = random.randint(10, 20), random.randint(10, 20)\n",
    "dist, pred = initialisation([[0]*c1]*c2)\n",
    "assert(len(dist)==c2 and len(dist[0])==c1 and len(pred)==c2 and len(pred[0])==c1)\n",
    "assert(dist[c1//2][c2//2] == math.inf and pred[c1//2][c2//2] == None)"
   ]
  },
  {
   "cell_type": "markdown",
   "metadata": {},
   "source": [
    "2. Écrire une fonction `relache_si_tendu(laplM, gradMx, gradMy, gradMax, P, Q, dist, pred, file)` qui teste si l'arc $\\overrightarrow{PQ}$ est tendu. Si c'est le cas, elle le relâche, met à jour `dist` et `pred` et insère dans la file de priorité $Q$ avec la nouvelle distance qui lui est associée (on peut ignorer les éventuelles autres instances de `Q` dans la file car les valeurs qui leur sont associées sont supérieures)."
   ]
  },
  {
   "cell_type": "code",
   "execution_count": null,
   "metadata": {},
   "outputs": [],
   "source": []
  },
  {
   "cell_type": "markdown",
   "metadata": {},
   "source": [
    "3. Écrire l'algorithme de Dijstra. Pour accélérer: on donne un point initial et un point final. Quand le point final est extrait de la file de priorité, on s'arrête."
   ]
  },
  {
   "cell_type": "code",
   "execution_count": null,
   "metadata": {},
   "outputs": [],
   "source": []
  },
  {
   "cell_type": "markdown",
   "metadata": {},
   "source": [
    "4. Écrire une fonction `contour(M, P, Q, couleur)` qui ajoute le contour calculé entre les points `P` et `Q`, dans la couleur spécifiée (entier entre 0 pour noir et 255 pour blanc)."
   ]
  },
  {
   "cell_type": "code",
   "execution_count": null,
   "metadata": {},
   "outputs": [],
   "source": []
  },
  {
   "cell_type": "markdown",
   "metadata": {},
   "source": [
    "On peut maintenant regarder le résultat du calcul du contour sur l'image suivante:"
   ]
  },
  {
   "cell_type": "code",
   "execution_count": null,
   "metadata": {},
   "outputs": [],
   "source": [
    "img = img2array(\"plage.jpeg\")\n",
    "\n",
    "affiche_image(img)"
   ]
  },
  {
   "cell_type": "code",
   "execution_count": null,
   "metadata": {
    "scrolled": true
   },
   "outputs": [],
   "source": [
    "contour(img, (281,57), (269,235), 255)  ##un peu long, c'est normal\n",
    "\n",
    "affiche_image(img)"
   ]
  }
 ],
 "metadata": {
  "kernelspec": {
   "display_name": "Python 3",
   "language": "python",
   "name": "python3"
  },
  "language_info": {
   "codemirror_mode": {
    "name": "ipython",
    "version": 3
   },
   "file_extension": ".py",
   "mimetype": "text/x-python",
   "name": "python",
   "nbconvert_exporter": "python",
   "pygments_lexer": "ipython3",
   "version": "3.6.9"
  }
 },
 "nbformat": 4,
 "nbformat_minor": 4
}
