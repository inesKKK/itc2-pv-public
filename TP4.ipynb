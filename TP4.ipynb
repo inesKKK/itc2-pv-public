{
 "cells": [
  {
   "cell_type": "markdown",
   "metadata": {},
   "source": [
    "# TP4 : Programmation dynamique 2 -- typographie\n",
    "\n",
    "_note_ : cet énoncé est difficile, inutile de vous y attaquer si vous n'avez pas fait le TP3\n",
    "\n",
    "Les traitements de texte ne suivent pas tous le même algorithme pour répartir les mots sur les lignes: par exemple `word` ou `libreoffice` font une répartition ligne par ligne (quand une ligne ne psossède pas suffisamment de place pour écrire le mot suivant, ce mot est mis à la ligne et la ligne qui vient d'être terminée est éventuellement réarrangée), alors que `LaTeX` fait une répartition paragraphe par paragraphe, ce qui est beaucoup plus harmonieux car cela permet d'équilibrer la longueur totale sans caractères sur l'ensemble des lignes du paragraphe.\n",
    "\n",
    "Dans cet énoncé, on travaille dans l'hypothèse d'une police de largeur fixe (mais on peut adapter sans problème la technique à une police quelconque en ajoutant des coefficiants).\n",
    "\n",
    "On dispose d'une suite de $n$ mots de longueurs respectives $\\ell_1,\\dots,\\ell_n$ à afficher et de la largeur $M$ de la ligne (_mot_ est à prendre dans le sens suite finie de caractères).\n",
    "\n",
    "On souhaite faire un affichage de cette suite de mots sur un paragraphe, en s'imposant la règle suivante:\n",
    "> aucune ligne ne dépasse; donc si une ligne contient les mots d'indices $i$ à $j$ ($i\\leq j$), il faut que\n",
    "  $$\\underbrace{\\sum\\limits_{k=i}^{j} \\ell_k}_{\\text{largeur des\n",
    "      mots}} + \\underbrace{j-i}_{\\text{espaces entre les mots}}\\leq\n",
    "  M$$\n",
    "\n",
    "Dans ce TP, vous allez implémenter deux solutions à ce problème qui suivent des esprits différents."
   ]
  },
  {
   "cell_type": "markdown",
   "metadata": {},
   "source": [
    "**Exercice (étalon)**\n",
    "Écrire une fonction `etalon` qui prend en argument un entier strictement positif et affiche une ligne de tirets `-` de la longueur l'entier fourni en argument.\n",
    "\n",
    "Par exemple l'exécution de `etalon(17)` doit aboutir à l'affichage\n",
    "```\n",
    "-----------------\n",
    "```\n"
   ]
  },
  {
   "cell_type": "code",
   "execution_count": null,
   "metadata": {},
   "outputs": [],
   "source": [
    "# Écrire votre code ici\n",
    "raise NotImplementedError # effacer cette ligne une fois le code écrit"
   ]
  },
  {
   "cell_type": "markdown",
   "metadata": {},
   "source": [
    "**Exercice (algorithme glouton)**\n",
    "On souhaite implémenter une première solution avec un algorithme glouton qui écrit le plus de mots possibles au fur et à mesure. Écrire une fonction `tdt1` qui prend en argument une liste de mots et un entier représentant la largeur de la ligne et affiche le texte sans dépasser cette largeur, en écrivant systématiquement le plus de mots possibles par ligne et en commençant par un étalon de la bonne longueur (voir exercice précédent).\n",
    "\n",
    "Par exemple `tdt1(['et', 'voici', 'juste', 'un', 'enormissime', 'exemple'], 17)` doit aboutir à l'affichage\n",
    "```\n",
    "-----------------\n",
    "et voici juste un\n",
    "enormissime\n",
    "exemple\n",
    "```"
   ]
  },
  {
   "cell_type": "code",
   "execution_count": null,
   "metadata": {},
   "outputs": [],
   "source": [
    "# Écrire votre code ici\n",
    "raise NotImplementedError # effacer cette ligne une fois le code écrit"
   ]
  },
  {
   "cell_type": "markdown",
   "metadata": {},
   "source": [
    "**Exercice (programmation dynamique)**\n",
    "On souhaite maintenant faire un affichage plus harmonieux de la suite de mots. Dans l'idéal, on veut que toutes les lignes aient la même longueur. Ce n'est bien sûr pas possible en général, il s'agit donc de faire en sorte que la ligne la plus longue et la ligne la plus courte (hors dernière ligne) aient des longueurs proches. Pour cela, on ajoute la condition:\n",
    "> on cherche à minimiser le cube des espaces à ajouter sur chaque ligne pour la compléter (exceptée la dernière).\n",
    "\n",
    "(L'idée de prendre le cube est que les lignes avec beaucoup de blanc soient très pénalisées)\n"
   ]
  },
  {
   "cell_type": "markdown",
   "metadata": {},
   "source": [
    "En programmation dynamique, il faut pouvoir construire une solution à partir de la solution au même problème sur une entrée plus petite. Ici, si on considère une solution optimale sur $h$ lignes, alors la composition des $h-1$ dernières lignes est optimale aussi (sinon en en prenant une meilleure, on améliorerait la solution sur $h$ lignes).\n",
    "\n",
    "Notons $E(i)$ la somme des cubes du nombre d'espaces à ajouter par ligne (sauf la dernière), à partir du mot $i$ compris (jusq'au dernier), en supposant que le mot $i$ est au début d'une ligne.\n",
    "\n",
    "Si on peut écrire tous les mots restant sur une même ligne, on n'a pas de question à se poser, et $E(i)$ est nul. On note $C_i$ la condition correspondante.\n",
    "\n",
    "**Question 1** Écrire une fonction `ligne_suffisante` qui prend en argument une liste de mots, un indice `i` dans cette liste et une largeur de ligne, et renvoie `True` s'il y a suffisamment de place dans la ligne pour écrire tous les mots à partir de l'indice `i`, et `False` sinon."
   ]
  },
  {
   "cell_type": "code",
   "execution_count": null,
   "metadata": {},
   "outputs": [],
   "source": [
    "# Écrire votre code ici\n",
    "raise NotImplementedError # effacer cette ligne une fois le code écrit"
   ]
  },
  {
   "cell_type": "code",
   "execution_count": null,
   "metadata": {},
   "outputs": [],
   "source": [
    "assert(ligne_suffisante(['et', 'voici', 'juste', 'un', 'enormissime', 'exemple'], 0, 17) == False)\n",
    "assert(ligne_suffisante(['et', 'voici', 'juste', 'un', 'enormissime', 'exemple'], 4, 17) == False)\n",
    "assert(ligne_suffisante(['et', 'voici', 'juste', 'un', 'enormissime', 'exemple'], 5, 17) == False)\n",
    "assert(ligne_suffisante(['et', 'voici', 'juste', 'un', 'enormissime', 'exemple'], 4, 18) == False)\n",
    "assert(ligne_suffisante(['et', 'voici', 'juste', 'un', 'enormissime', 'exemple'], 4, 19) == True)"
   ]
  },
  {
   "cell_type": "markdown",
   "metadata": {},
   "source": [
    "Si on ne peut pas écrire tous les mots restants sur une même ligne, cela signifie que la ligne qui commence au mot $i$ se termine au mot $j$ pour un certain $j\\geq i$ qui est tel qu'il y a assez de place pour écrire les mots des indices $i$ à $j$ sur la ligne.\n",
    "\n",
    "**Question 2** Écrire une fonction `ligne` qui prend en argument une liste de mots, deux indices `i` et `j` dans cette liste tels que $i\\leq j$ et une largeur de ligne, et renvoie le nombre d'espaces en fin de ligne si on peut écrire tous les mots entre les indices `i` et `j` compris dans la largeur de la ligne (on note $C_{i.j}$ cette condition), et -1 si on ne peut pas écrire tous ces mots."
   ]
  },
  {
   "cell_type": "code",
   "execution_count": null,
   "metadata": {},
   "outputs": [],
   "source": [
    "# Écrire votre code ici\n",
    "raise NotImplementedError # effacer cette ligne une fois le code écrit"
   ]
  },
  {
   "cell_type": "code",
   "execution_count": null,
   "metadata": {},
   "outputs": [],
   "source": [
    "assert(ligne(['et', 'voici', 'juste', 'un', 'enormissime', 'exemple'], 2, 3, 17) == 9)\n",
    "assert(ligne(['et', 'voici', 'juste', 'un', 'enormissime', 'exemple'], 0, 5, 17) == -1)\n",
    "assert(ligne(['et', 'voici', 'juste', 'un', 'enormissime', 'exemple'], 0, 2, 17) == 3)\n",
    "assert(ligne(['et', 'voici', 'juste', 'un', 'enormissime', 'exemple'], 0, 3, 17) == 0)"
   ]
  },
  {
   "cell_type": "markdown",
   "metadata": {},
   "source": [
    "**Question 3** On cherche à minimiser les cubes espaces restants, on peut donc écrire\n",
    "$$E(i)=\\begin{cases}\n",
    "0 \\quad\\text{ si }C_i\\\\\n",
    "\\min\\limits_{j\\ \\mid\\ i\\leq j\\leq n\\text{ et }C_{i,j}}\\left(M-(\\sum\\limits_{k=i}^{j} \\ell_k + j-i)\\right)^3 + E(j+1)\n",
    "\\quad\\text{ sinon.}\n",
    "\\end{cases}$$\n",
    "La solution à notre problème est $E(0)$ et les cas de bases correspondent aux indices les plus grands. Écrire une fonction `tdt2` qui prend les mêmes arguments que `tdt1` et affiche de façon harmonieuse la suite de mots.\n",
    "\n",
    "Par exemple `tdt2(['et', 'voici', 'juste', 'un', 'enormissime', 'exemple'], 17)` doit aboutir à l'affichage\n",
    "```\n",
    "-----------------\n",
    "et voici juste\n",
    "un enormissime\n",
    "exemple\n",
    "```"
   ]
  },
  {
   "cell_type": "code",
   "execution_count": null,
   "metadata": {},
   "outputs": [],
   "source": [
    "# Écrire votre code ici\n",
    "raise NotImplementedError # effacer cette ligne une fois le code écrit"
   ]
  }
 ],
 "metadata": {
  "kernelspec": {
   "display_name": "Python 3",
   "language": "python",
   "name": "python3"
  },
  "language_info": {
   "codemirror_mode": {
    "name": "ipython",
    "version": 3
   },
   "file_extension": ".py",
   "mimetype": "text/x-python",
   "name": "python",
   "nbconvert_exporter": "python",
   "pygments_lexer": "ipython3",
   "version": "3.6.9"
  }
 },
 "nbformat": 4,
 "nbformat_minor": 4
}
